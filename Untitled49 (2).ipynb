{
  "nbformat": 4,
  "nbformat_minor": 0,
  "metadata": {
    "kernelspec": {
      "display_name": "Python 3",
      "language": "python",
      "name": "python3"
    },
    "language_info": {
      "codemirror_mode": {
        "name": "ipython",
        "version": 3
      },
      "file_extension": ".py",
      "mimetype": "text/x-python",
      "name": "python",
      "nbconvert_exporter": "python",
      "pygments_lexer": "ipython3",
      "version": "3.7.7"
    },
    "colab": {
      "name": "Untitled49.ipynb",
      "provenance": []
    },
    "accelerator": "GPU"
  },
  "cells": [
    {
      "cell_type": "code",
      "metadata": {
        "id": "--R55wwzPVyo",
        "colab_type": "code",
        "colab": {},
        "outputId": "0aeafd80-57a7-4ad4-fe39-213ef4881c55"
      },
      "source": [
        "!pip install sklearn"
      ],
      "execution_count": null,
      "outputs": [
        {
          "output_type": "stream",
          "text": [
            "Processing c:\\users\\handc\\appdata\\local\\pip\\cache\\wheels\\46\\ef\\c3\\157e41f5ee1372d1be90b09f74f82b10e391eaacca8f22d33e\\sklearn-0.0-py2.py3-none-any.whl\n",
            "Collecting scikit-learn\n",
            "  Using cached scikit_learn-0.23.1-cp37-cp37m-win_amd64.whl (6.8 MB)\n",
            "Requirement already satisfied: scipy>=0.19.1 in c:\\users\\handc\\appdata\\roaming\\python\\python37\\site-packages (from scikit-learn->sklearn) (1.4.1)\n",
            "Collecting joblib>=0.11\n",
            "  Using cached joblib-0.15.1-py3-none-any.whl (298 kB)\n",
            "Collecting threadpoolctl>=2.0.0\n",
            "  Using cached threadpoolctl-2.1.0-py3-none-any.whl (12 kB)\n",
            "Requirement already satisfied: numpy>=1.13.3 in c:\\users\\handc\\appdata\\roaming\\python\\python37\\site-packages (from scikit-learn->sklearn) (1.18.1)\n",
            "Installing collected packages: joblib, threadpoolctl, scikit-learn, sklearn\n"
          ],
          "name": "stdout"
        },
        {
          "output_type": "stream",
          "text": [
            "지정된 경로를 찾을 수 없습니다.\n"
          ],
          "name": "stderr"
        },
        {
          "output_type": "stream",
          "text": [
            "Successfully installed joblib-0.15.1 scikit-learn-0.23.1 sklearn-0.0 threadpoolctl-2.1.0\n"
          ],
          "name": "stdout"
        }
      ]
    },
    {
      "cell_type": "code",
      "metadata": {
        "id": "e2F5pQvLPVyt",
        "colab_type": "code",
        "colab": {}
      },
      "source": [
        "import numpy as np\n",
        "import pandas as pd\n",
        "import os\n",
        "#import matplotlib.pyplot as plt\n",
        "from sklearn.metrics import f1_score\n",
        "\n",
        "import tensorflow as tf\n",
        "from tensorflow.keras.datasets.mnist import load_data\n",
        "from tensorflow.keras.models import load_model, Model\n",
        "from tensorflow.keras.layers import Input, Conv2D, Add, BatchNormalization, concatenate\n",
        "from sklearn.model_selection import train_test_split\n",
        "from sklearn.model_selection import KFold\n",
        "\n",
        "from tqdm import tqdm"
      ],
      "execution_count": 1,
      "outputs": []
    },
    {
      "cell_type": "code",
      "metadata": {
        "id": "PUf6e-EdPfTU",
        "colab_type": "code",
        "colab": {}
      },
      "source": [
        "from google.colab import files"
      ],
      "execution_count": 2,
      "outputs": []
    },
    {
      "cell_type": "code",
      "metadata": {
        "id": "ovHta6mvPh1V",
        "colab_type": "code",
        "colab": {
          "resources": {
            "http://localhost:8080/nbextensions/google.colab/files.js": {
              "data": "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",
              "ok": true,
              "headers": [
                [
                  "content-type",
                  "application/javascript"
                ]
              ],
              "status": 200,
              "status_text": ""
            }
          },
          "base_uri": "https://localhost:8080/",
          "height": 76
        },
        "outputId": "d1cce744-636b-4cc5-9a10-6bf7e81c6949"
      },
      "source": [
        "uploaded = files.upload()"
      ],
      "execution_count": 3,
      "outputs": [
        {
          "output_type": "display_data",
          "data": {
            "text/html": [
              "\n",
              "     <input type=\"file\" id=\"files-74e444d7-b3c0-485a-9e66-fd987e600ec8\" name=\"files[]\" multiple disabled\n",
              "        style=\"border:none\" />\n",
              "     <output id=\"result-74e444d7-b3c0-485a-9e66-fd987e600ec8\">\n",
              "      Upload widget is only available when the cell has been executed in the\n",
              "      current browser session. Please rerun this cell to enable.\n",
              "      </output>\n",
              "      <script src=\"/nbextensions/google.colab/files.js\"></script> "
            ],
            "text/plain": [
              "<IPython.core.display.HTML object>"
            ]
          },
          "metadata": {
            "tags": []
          }
        },
        {
          "output_type": "stream",
          "text": [
            "Saving sample_submission.csv to sample_submission.csv\n"
          ],
          "name": "stdout"
        }
      ]
    },
    {
      "cell_type": "code",
      "metadata": {
        "id": "TCLrAx1pPppu",
        "colab_type": "code",
        "colab": {}
      },
      "source": [
        "import io\n",
        "\n",
        "submission = pd.read_csv(io.BytesIO(uploaded['sample_submission.csv']))"
      ],
      "execution_count": 4,
      "outputs": []
    },
    {
      "cell_type": "code",
      "metadata": {
        "id": "4LCzDTXsP4Vv",
        "colab_type": "code",
        "colab": {
          "base_uri": "https://localhost:8080/",
          "height": 127
        },
        "outputId": "b31e21a2-71f4-4006-82ad-559853124f31"
      },
      "source": [
        "from google.colab import drive\n",
        "drive.mount('/content/gdrive')"
      ],
      "execution_count": 5,
      "outputs": [
        {
          "output_type": "stream",
          "text": [
            "Go to this URL in a browser: https://accounts.google.com/o/oauth2/auth?client_id=947318989803-6bn6qk8qdgf4n4g3pfee6491hc0brc4i.apps.googleusercontent.com&redirect_uri=urn%3aietf%3awg%3aoauth%3a2.0%3aoob&response_type=code&scope=email%20https%3a%2f%2fwww.googleapis.com%2fauth%2fdocs.test%20https%3a%2f%2fwww.googleapis.com%2fauth%2fdrive%20https%3a%2f%2fwww.googleapis.com%2fauth%2fdrive.photos.readonly%20https%3a%2f%2fwww.googleapis.com%2fauth%2fpeopleapi.readonly\n",
            "\n",
            "Enter your authorization code:\n",
            "··········\n",
            "Mounted at /content/gdrive\n"
          ],
          "name": "stdout"
        }
      ]
    },
    {
      "cell_type": "code",
      "metadata": {
        "id": "fyiOeSVxP4w8",
        "colab_type": "code",
        "colab": {}
      },
      "source": [
        "import zipfile, os, shutil\n",
        "\n",
        "dataset = '/content/gdrive/My Drive/train1.zip'\n",
        "dst_path = '/content/train'\n",
        "dst_file = os.path.join(dst_path, 'train1.zip')\n",
        "\n",
        "if not os.path.exists(dst_path):\n",
        "  os.makedirs(dst_path)"
      ],
      "execution_count": 9,
      "outputs": []
    },
    {
      "cell_type": "code",
      "metadata": {
        "id": "lkko-_N4QQ4d",
        "colab_type": "code",
        "colab": {}
      },
      "source": [
        "# copy zip file\n",
        "shutil.copy(dataset, dst_file)\n",
        "  \n",
        "with zipfile.ZipFile(dst_file, 'r') as file:\n",
        "  file.extractall(dst_path)"
      ],
      "execution_count": 10,
      "outputs": []
    },
    {
      "cell_type": "code",
      "metadata": {
        "id": "NXKhzA3wPVyw",
        "colab_type": "code",
        "colab": {}
      },
      "source": [
        "train_files = os.listdir('/content/train')"
      ],
      "execution_count": 11,
      "outputs": []
    },
    {
      "cell_type": "code",
      "metadata": {
        "id": "7T_LruBrPVy0",
        "colab_type": "code",
        "colab": {
          "base_uri": "https://localhost:8080/",
          "height": 35
        },
        "outputId": "8da76756-d4e1-4cf3-cfbb-82b0b456ebb7"
      },
      "source": [
        "train = []\n",
        "for file in tqdm(train_files[25653:50850]):\n",
        "    data = np.load('/content/train/'+file).astype('float32')\n",
        "    train.append(data)"
      ],
      "execution_count": 12,
      "outputs": [
        {
          "output_type": "stream",
          "text": [
            "100%|██████████| 25197/25197 [02:35<00:00, 162.23it/s]\n"
          ],
          "name": "stderr"
        }
      ]
    },
    {
      "cell_type": "code",
      "metadata": {
        "id": "qGAa48kmPVy3",
        "colab_type": "code",
        "colab": {
          "base_uri": "https://localhost:8080/",
          "height": 35
        },
        "outputId": "4c5f850e-ff52-4d18-867b-56cf97199ceb"
      },
      "source": [
        "len(train)"
      ],
      "execution_count": 13,
      "outputs": [
        {
          "output_type": "execute_result",
          "data": {
            "text/plain": [
              "25197"
            ]
          },
          "metadata": {
            "tags": []
          },
          "execution_count": 13
        }
      ]
    },
    {
      "cell_type": "markdown",
      "metadata": {
        "id": "d2KmG8rtSqX7",
        "colab_type": "text"
      },
      "source": [
        "# 생략"
      ]
    },
    {
      "cell_type": "code",
      "metadata": {
        "id": "ijdzcD26SZNd",
        "colab_type": "code",
        "colab": {}
      },
      "source": [
        "import zipfile, os, shutil\n",
        "\n",
        "dataset = '/content/gdrive/My Drive/test1.zip'\n",
        "dst_path = '/content/test'\n",
        "dst_file = os.path.join(dst_path, 'test1.zip')\n",
        "\n",
        "if not os.path.exists(dst_path):\n",
        "  os.makedirs(dst_path)"
      ],
      "execution_count": null,
      "outputs": []
    },
    {
      "cell_type": "code",
      "metadata": {
        "id": "8qqbY0PzPVzC",
        "colab_type": "code",
        "colab": {},
        "outputId": "43991e38-721a-4c8d-a827-06cf3501e08b"
      },
      "source": [
        "test = []\n",
        "for sub_id in tqdm(submission['id']):\n",
        "    data = np.load('/content/test/'+'subset_'+sub_id+'.npy').astype('float32')\n",
        "    test.append(data)"
      ],
      "execution_count": null,
      "outputs": [
        {
          "output_type": "stream",
          "text": [
            "100%|█████████████████████████████████████████████████████████████████████████████| 2416/2416 [00:10<00:00, 235.33it/s]\n"
          ],
          "name": "stderr"
        }
      ]
    },
    {
      "cell_type": "code",
      "metadata": {
        "id": "VZf3e7kbPVzF",
        "colab_type": "code",
        "colab": {}
      },
      "source": [
        "train = np.array(train)"
      ],
      "execution_count": 14,
      "outputs": []
    },
    {
      "cell_type": "code",
      "metadata": {
        "id": "lsh-w_W1PVzH",
        "colab_type": "code",
        "colab": {}
      },
      "source": [
        "# test = np.array(test)"
      ],
      "execution_count": null,
      "outputs": []
    },
    {
      "cell_type": "code",
      "metadata": {
        "id": "IYFSmsJCPVzJ",
        "colab_type": "code",
        "colab": {
          "base_uri": "https://localhost:8080/",
          "height": 35
        },
        "outputId": "1264870e-512d-4e73-dcfd-49d4b65ba38f"
      },
      "source": [
        "train.shape"
      ],
      "execution_count": 15,
      "outputs": [
        {
          "output_type": "execute_result",
          "data": {
            "text/plain": [
              "(25197, 40, 40, 15)"
            ]
          },
          "metadata": {
            "tags": []
          },
          "execution_count": 15
        }
      ]
    },
    {
      "cell_type": "code",
      "metadata": {
        "id": "DhITs-x_PVzM",
        "colab_type": "code",
        "colab": {},
        "outputId": "d7891e6c-95f7-4739-e33f-e535f593e044"
      },
      "source": [
        "# test.shape"
      ],
      "execution_count": null,
      "outputs": [
        {
          "output_type": "execute_result",
          "data": {
            "text/plain": [
              "(2416, 40, 40, 14)"
            ]
          },
          "metadata": {
            "tags": []
          },
          "execution_count": 10
        }
      ]
    },
    {
      "cell_type": "code",
      "metadata": {
        "scrolled": true,
        "id": "CNCpIkGVPVzO",
        "colab_type": "code",
        "colab": {
          "base_uri": "https://localhost:8080/",
          "height": 35
        },
        "outputId": "4bd4fe8f-3a78-4084-93d8-724b30379840"
      },
      "source": [
        "x_train = train[:,:,:,:10]\n",
        "y_train = train[:,:,:,14]\n",
        "x_train.shape"
      ],
      "execution_count": 16,
      "outputs": [
        {
          "output_type": "execute_result",
          "data": {
            "text/plain": [
              "(25197, 40, 40, 10)"
            ]
          },
          "metadata": {
            "tags": []
          },
          "execution_count": 16
        }
      ]
    },
    {
      "cell_type": "code",
      "metadata": {
        "id": "-QUiqY0qUX3u",
        "colab_type": "code",
        "colab": {}
      },
      "source": [
        "del train"
      ],
      "execution_count": 17,
      "outputs": []
    },
    {
      "cell_type": "markdown",
      "metadata": {
        "id": "EKgZsn_yPVzR",
        "colab_type": "text"
      },
      "source": [
        "여기서 부터는 연도별로"
      ]
    },
    {
      "cell_type": "code",
      "metadata": {
        "id": "NjiXGcRlPVzR",
        "colab_type": "code",
        "colab": {}
      },
      "source": [
        "#2016년\n",
        "x_train1=x_train[0:25653]\n",
        "y_train1=y_train[0:25653]"
      ],
      "execution_count": null,
      "outputs": []
    },
    {
      "cell_type": "code",
      "metadata": {
        "id": "XShsQ3Z1PVzT",
        "colab_type": "code",
        "colab": {},
        "outputId": "0e64af72-c6bf-44df-e97c-f4081c845302"
      },
      "source": [
        "x_train1.shape, y_train1.shape"
      ],
      "execution_count": null,
      "outputs": [
        {
          "output_type": "execute_result",
          "data": {
            "text/plain": [
              "((25653, 40, 40, 10), (25653, 40, 40))"
            ]
          },
          "metadata": {
            "tags": []
          },
          "execution_count": 27
        }
      ]
    },
    {
      "cell_type": "code",
      "metadata": {
        "id": "IdvAVgmlPVzW",
        "colab_type": "code",
        "colab": {}
      },
      "source": [
        "#2017년\n",
        "x_train2=x_train[25653:50850]\n",
        "y_train2=y_train[25653:50850]"
      ],
      "execution_count": null,
      "outputs": []
    },
    {
      "cell_type": "code",
      "metadata": {
        "id": "KfGMhZAHPVzY",
        "colab_type": "code",
        "colab": {},
        "outputId": "5f080596-8d9b-43de-e608-d3a45cf0f20e"
      },
      "source": [
        "x_train2.shape, y_train2.shape"
      ],
      "execution_count": null,
      "outputs": [
        {
          "output_type": "execute_result",
          "data": {
            "text/plain": [
              "((25197, 40, 40, 10), (25197, 40, 40))"
            ]
          },
          "metadata": {
            "tags": []
          },
          "execution_count": 30
        }
      ]
    },
    {
      "cell_type": "code",
      "metadata": {
        "id": "idXG7XcHPVzb",
        "colab_type": "code",
        "colab": {},
        "outputId": "3b040705-5793-4927-8d22-5a2a65cbe834"
      },
      "source": [
        "#\n",
        "x_train3=x_train[50850:]\n",
        "y_train3=y_train[50850:]\n",
        "x_train3.shape, y_train3.shape"
      ],
      "execution_count": null,
      "outputs": [
        {
          "output_type": "execute_result",
          "data": {
            "text/plain": [
              "((25495, 40, 40, 10), (25495, 40, 40))"
            ]
          },
          "metadata": {
            "tags": []
          },
          "execution_count": 32
        }
      ]
    },
    {
      "cell_type": "markdown",
      "metadata": {
        "id": "RyUzgxtWSy6K",
        "colab_type": "text"
      },
      "source": [
        "끝"
      ]
    },
    {
      "cell_type": "code",
      "metadata": {
        "id": "kkxQRMHmPVzd",
        "colab_type": "code",
        "colab": {
          "base_uri": "https://localhost:8080/",
          "height": 35
        },
        "outputId": "a9879f32-7f8d-48f4-c0b2-f487f2cb23ba"
      },
      "source": [
        "x_train, x_test, y_train, y_test = train_test_split(x_train, y_train, test_size=0.1, random_state=7777)\n",
        "x_train.shape, y_train.shape, x_test.shape, y_test.shape"
      ],
      "execution_count": 19,
      "outputs": [
        {
          "output_type": "execute_result",
          "data": {
            "text/plain": [
              "((22677, 40, 40, 10), (22677, 40, 40), (2520, 40, 40, 10), (2520, 40, 40))"
            ]
          },
          "metadata": {
            "tags": []
          },
          "execution_count": 19
        }
      ]
    },
    {
      "cell_type": "code",
      "metadata": {
        "id": "OGKJefWRPVzg",
        "colab_type": "code",
        "colab": {
          "base_uri": "https://localhost:8080/",
          "height": 35
        },
        "outputId": "2a1ef9c8-27b9-418f-94bc-630feb1c35a9"
      },
      "source": [
        "y_train_ = y_train.reshape(-1,y_train.shape[1]*y_train.shape[2])\n",
        "\n",
        "x_train = np.delete(x_train, np.where(y_train_<0)[0], axis=0)\n",
        "y_train = np.delete(y_train, np.where(y_train_<0)[0], axis=0)\n",
        "y_train = y_train.reshape(-1, x_train.shape[1], x_train.shape[2],1)\n",
        "y_test = y_test.reshape(-1, y_test.shape[1], y_test.shape[2],1)\n",
        "\n",
        "y_train_ = np.delete(y_train_, np.where(y_train_<0)[0], axis=0)\n",
        "\n",
        "x_train.shape, y_train.shape"
      ],
      "execution_count": 20,
      "outputs": [
        {
          "output_type": "execute_result",
          "data": {
            "text/plain": [
              "((22563, 40, 40, 10), (22563, 40, 40, 1))"
            ]
          },
          "metadata": {
            "tags": []
          },
          "execution_count": 20
        }
      ]
    },
    {
      "cell_type": "code",
      "metadata": {
        "id": "Ka-FvrQlPVzi",
        "colab_type": "code",
        "colab": {
          "base_uri": "https://localhost:8080/",
          "height": 35
        },
        "outputId": "a8629372-17f7-4671-8b9c-df9556f11c38"
      },
      "source": [
        "#비가 내린 셀이 50개 이상인 데이터만 선택\n",
        "is_0 = y_train_!=0\n",
        "index = []\n",
        "for i in tqdm(range(is_0.shape[0])):\n",
        "    if is_0[i,:].sum()>=50:\n",
        "        index.append(i)"
      ],
      "execution_count": 21,
      "outputs": [
        {
          "output_type": "stream",
          "text": [
            "100%|██████████| 22563/22563 [00:00<00:00, 131205.20it/s]\n"
          ],
          "name": "stderr"
        }
      ]
    },
    {
      "cell_type": "code",
      "metadata": {
        "id": "aOqkK0QdPVzk",
        "colab_type": "code",
        "colab": {
          "base_uri": "https://localhost:8080/",
          "height": 35
        },
        "outputId": "b25bba83-7771-4841-e19c-9c38bb439f88"
      },
      "source": [
        "x_train = x_train[index,:,:,:]\n",
        "y_train = y_train[index,:,:,:]\n",
        "\n",
        "x_train.shape, y_train.shape"
      ],
      "execution_count": 22,
      "outputs": [
        {
          "output_type": "execute_result",
          "data": {
            "text/plain": [
              "((9136, 40, 40, 10), (9136, 40, 40, 1))"
            ]
          },
          "metadata": {
            "tags": []
          },
          "execution_count": 22
        }
      ]
    },
    {
      "cell_type": "code",
      "metadata": {
        "id": "Jj9jiFyZPVzn",
        "colab_type": "code",
        "colab": {}
      },
      "source": [
        "#Data Augmentation X8\n",
        "def data_generator(x_train, y_train):\n",
        "    rotate_X_90 = np.zeros_like(x_train)\n",
        "    rotate_Y_90 = np.zeros_like(y_train)\n",
        "\n",
        "    for j in range(rotate_X_90.shape[0]):\n",
        "        rotate_x=np.zeros([x_train.shape[1],x_train.shape[2],10])\n",
        "        rotate_y=np.zeros([x_train.shape[1],x_train.shape[2],1])\n",
        "        for i in range(10):\n",
        "            rotate_x[:,:,i]=np.rot90(x_train[j,:,:,i])\n",
        "        rotate_y[:,:,0]=np.rot90(y_train[j,:,:,0])\n",
        "\n",
        "        rotate_X_90[j,:,:,:] = rotate_x\n",
        "        rotate_Y_90[j,:,:,:] = rotate_y\n",
        "\n",
        "    rotate_X_180 = np.zeros_like(x_train)\n",
        "    rotate_Y_180 = np.zeros_like(y_train)\n",
        "\n",
        "    for j in range(rotate_X_180.shape[0]):\n",
        "        rotate_x=np.zeros([x_train.shape[1],x_train.shape[2],10])\n",
        "        rotate_y=np.zeros([x_train.shape[1],x_train.shape[2],1])\n",
        "        for i in range(10):\n",
        "            rotate_x[:,:,i]=np.rot90(x_train[j,:,:,i])\n",
        "            rotate_x[:,:,i]=np.rot90(rotate_x[:,:,i])\n",
        "        rotate_y[:,:,0]=np.rot90(y_train[j,:,:,0])\n",
        "        rotate_y[:,:,0]=np.rot90(rotate_y[:,:,0])\n",
        "\n",
        "        rotate_X_180[j,:,:,:] = rotate_x\n",
        "        rotate_Y_180[j,:,:,:] = rotate_y\n",
        "\n",
        "    rotate_X_270 = np.zeros_like(x_train)\n",
        "    rotate_Y_270 = np.zeros_like(y_train)\n",
        "\n",
        "    for j in range(rotate_X_270.shape[0]):\n",
        "        rotate_x=np.zeros([x_train.shape[1],x_train.shape[2],10])\n",
        "        rotate_y=np.zeros([x_train.shape[1],x_train.shape[2],1])\n",
        "        for i in range(10):\n",
        "            rotate_x[:,:,i]=np.rot90(x_train[j,:,:,i])\n",
        "            rotate_x[:,:,i]=np.rot90(rotate_x[:,:,i])\n",
        "            rotate_x[:,:,i]=np.rot90(rotate_x[:,:,i])\n",
        "        rotate_y[:,:,0]=np.rot90(y_train[j,:,:,0])\n",
        "        rotate_y[:,:,0]=np.rot90(rotate_y[:,:,0])\n",
        "        rotate_y[:,:,0]=np.rot90(rotate_y[:,:,0])\n",
        "\n",
        "        rotate_X_270[j,:,:,:] = rotate_x\n",
        "        rotate_Y_270[j,:,:,:] = rotate_y\n",
        "\n",
        "    x_train = np.concatenate((x_train, rotate_X_90, rotate_X_180, rotate_X_270), axis = 0)\n",
        "    y_train = np.concatenate((y_train, rotate_Y_90, rotate_Y_180, rotate_Y_270), axis = 0)\n",
        "    del rotate_X_90, rotate_X_180, rotate_X_270\n",
        "\n",
        "    x_T = np.zeros_like(x_train)\n",
        "    y_T = np.zeros_like(y_train)\n",
        "\n",
        "    for i in range(x_train.shape[0]):\n",
        "        for j in range(x_train.shape[3]):\n",
        "            x_T[i,:,:,j] = x_train[i,:,:,j].T\n",
        "        y_T[i,:,:,0] = y_train[i,:,:,0].T\n",
        "\n",
        "    x_train = np.concatenate((x_train, x_T), axis = 0)\n",
        "    y_train = np.concatenate((y_train, y_T), axis = 0)\n",
        "\n",
        "    del x_T,y_T\n",
        "    \n",
        "    return x_train, y_train"
      ],
      "execution_count": null,
      "outputs": []
    },
    {
      "cell_type": "code",
      "metadata": {
        "id": "AeXGsf_QPVzp",
        "colab_type": "code",
        "colab": {}
      },
      "source": [
        "def mae_over_fscore(y_true, y_pred):\n",
        "    '''\n",
        "    y_true: sample_submission.csv 형태의 실제 값\n",
        "    y_pred: sample_submission.csv 형태의 예측 값\n",
        "    '''\n",
        "\n",
        "    y_true = np.array(y_true)\n",
        "    y_true = y_true.reshape(1, -1)[0]  \n",
        "    \n",
        "    y_pred = np.array(y_pred)\n",
        "    y_pred = y_pred.reshape(1, -1)[0]\n",
        "    \n",
        "    # 실제값이 0.1 이상인 픽셀의 위치 확인\n",
        "    IsGreaterThanEqualTo_PointOne = y_true >= 0.1\n",
        "    \n",
        "    # 실제 값에 결측값이 없는 픽셀의 위치 확인 \n",
        "    IsNotMissing = y_true >= 0\n",
        "    \n",
        "    # mae 계산\n",
        "    mae = np.mean(np.abs(y_true[IsGreaterThanEqualTo_PointOne] - y_pred[IsGreaterThanEqualTo_PointOne]))\n",
        "    \n",
        "    # f1_score 계산 위해, 실제값에 결측값이 없는 픽셀에 대해 1과 0으로 값 변환\n",
        "    y_true = np.where(y_true[IsNotMissing] >= 0.1, 1, 0)\n",
        "    \n",
        "    y_pred = np.where(y_pred[IsNotMissing] >= 0.1, 1, 0)\n",
        "    \n",
        "    # f1_score 계산    \n",
        "    f_score = f1_score(y_true, y_pred) \n",
        "    # f1_score가 0일 나올 경우를 대비하여 소량의 값 (1e-07) 추가 \n",
        "    return mae / (f_score + 1e-07) "
      ],
      "execution_count": 23,
      "outputs": []
    },
    {
      "cell_type": "code",
      "metadata": {
        "id": "oDWWjOpgPVzs",
        "colab_type": "code",
        "colab": {}
      },
      "source": [
        "def mae(y_true, y_pred):    \n",
        "    y_true, y_pred = np.array(y_true), np.array(y_pred)\n",
        "    \n",
        "    y_true = y_true.reshape(1, -1)[0]\n",
        "    \n",
        "    y_pred = y_pred.reshape(1, -1)[0]\n",
        "    \n",
        "    over_threshold = y_true >= 0.1\n",
        "    \n",
        "    return np.mean(np.abs(y_true[over_threshold] - y_pred[over_threshold]))\n",
        "\n",
        "def fscore(y_true, y_pred):\n",
        "    y_true, y_pred = np.array(y_true), np.array(y_pred)\n",
        "    \n",
        "    y_true = y_true.reshape(1, -1)[0]\n",
        "    \n",
        "    y_pred = y_pred.reshape(1, -1)[0]\n",
        "    \n",
        "    remove_NAs = y_true >= 0\n",
        "    \n",
        "    y_true = np.where(y_true[remove_NAs] >= 0.1, 1, 0)\n",
        "    \n",
        "    y_pred = np.where(y_pred[remove_NAs] >= 0.1, 1, 0)\n",
        "    \n",
        "    return(f1_score(y_true, y_pred))\n",
        "\n",
        "def maeOverFscore(y_true, y_pred):\n",
        "    return mae(y_true, y_pred) / (fscore(y_true, y_pred) + 1e-07)\n",
        "\n",
        "def fscore_keras(y_true, y_pred):\n",
        "    score = tf.py_function(func=fscore, inp=[y_true, y_pred], Tout=tf.float32, name='fscore_keras')\n",
        "    return score\n",
        "\n",
        "def score(y_true, y_pred):\n",
        "    score = tf.py_function(func=maeOverFscore, inp=[y_true, y_pred], Tout=tf.float32,  name='custom_mse') \n",
        "    return score"
      ],
      "execution_count": 24,
      "outputs": []
    },
    {
      "cell_type": "code",
      "metadata": {
        "id": "HNfn0pvXPVzv",
        "colab_type": "code",
        "colab": {}
      },
      "source": [
        "def create_model():\n",
        "    inputs=Input(x_train.shape[1:])\n",
        "    \n",
        "    bn=BatchNormalization()(inputs)\n",
        "    conv0=Conv2D(256, kernel_size=1, strides=1, padding='same', activation='relu')(bn)\n",
        "    \n",
        "    bn=BatchNormalization()(conv0)\n",
        "    conv=Conv2D(128, kernel_size=2, strides=1, padding='same', activation='relu')(bn)\n",
        "    concat=concatenate([conv0, conv], axis=3)\n",
        "    \n",
        "    bn=BatchNormalization()(concat)\n",
        "    conv=Conv2D(64, kernel_size=3, strides=1, padding='same', activation='relu')(bn)\n",
        "    concat=concatenate([concat, conv], axis=3)\n",
        "        \n",
        "    for i in range(5):\n",
        "        bn=BatchNormalization()(concat)\n",
        "        conv=Conv2D(32, kernel_size=3, strides=1, padding='same', activation='relu')(bn)\n",
        "        concat=concatenate([concat, conv], axis=3)\n",
        "    \n",
        "    bn=BatchNormalization()(concat)\n",
        "    outputs=Conv2D(1, kernel_size=1, strides=1, padding='same', activation='relu')(bn)\n",
        "    \n",
        "    model=Model(inputs=inputs, outputs=outputs)\n",
        "    \n",
        "    return model"
      ],
      "execution_count": 25,
      "outputs": []
    },
    {
      "cell_type": "code",
      "metadata": {
        "id": "m0fCcNOIPVzy",
        "colab_type": "code",
        "colab": {}
      },
      "source": [
        "\n",
        "def train_model(x_data, y_data, k, s):\n",
        "    \n",
        "    k_fold = KFold(n_splits=k, shuffle=True, random_state=7777)\n",
        "    \n",
        "    for model_number in range(s):\n",
        "        for  train_idx, val_idx in k_fold.split(x_data):\n",
        "            x_train, y_train = x_data[train_idx], y_data[train_idx]\n",
        "            x_val, y_val = x_data[val_idx], y_data[val_idx]\n",
        "\n",
        "            # 데이터를 부풀릴시 많은 양의 메모리가 필요\n",
        "            # x_train, y_train = data_generator(x_train, y_train)\n",
        "\n",
        "            model = create_model()\n",
        "\n",
        "            model.compile(loss='mae', optimizer='adam', metrics=[score, fscore_keras])\n",
        "\n",
        "            callbacks_list = [\n",
        "                tf.keras.callbacks.ReduceLROnPlateau(\n",
        "                    monitor='val_loss',\n",
        "                    patience=3,\n",
        "                    factor=0.8\n",
        "                ),\n",
        "\n",
        "                tf.keras.callbacks.ModelCheckpoint(\n",
        "                    filepath = '/content/gdrive/My Drive/newmodel/model'+str(model_number)+'.h5'\n",
        "                    monitor='val_score',\n",
        "                    save_best_only=True\n",
        "                )\n",
        "            ]\n",
        "\n",
        "            model.fit(x_train, y_train, epochs=7, batch_size=128, validation_data=(x_val, y_val), callbacks=callbacks_list)"
      ],
      "execution_count": 29,
      "outputs": []
    },
    {
      "cell_type": "code",
      "metadata": {
        "id": "m-aHNbZUPVz0",
        "colab_type": "code",
        "colab": {
          "base_uri": "https://localhost:8080/",
          "height": 1000
        },
        "outputId": "b3688417-4b5e-4df2-d203-faf65675c624"
      },
      "source": [
        "k = 3\n",
        "models = []\n",
        "\n",
        "train_model(x_train, y_train, k=k, s=3)\n",
        "\n",
        "for n in range(k):\n",
        "    model = load_model('/content/gdrive/My Drive/newmodel/model'+str(n)+'.h5', custom_objects = {'score':score,'fscore_keras':fscore_keras})\n",
        "    models.append(model)"
      ],
      "execution_count": null,
      "outputs": [
        {
          "output_type": "stream",
          "text": [
            "Epoch 1/7\n",
            "48/48 [==============================] - 78s 2s/step - loss: 0.4589 - score: 3.8293 - fscore_keras: 0.5461 - val_loss: 3.1044 - val_score: 11.8938 - val_fscore_keras: 0.2691 - lr: 0.0010\n",
            "Epoch 2/7\n",
            "48/48 [==============================] - 67s 1s/step - loss: 0.2604 - score: 2.4192 - fscore_keras: 0.6742 - val_loss: 0.3393 - val_score: 5.8526 - val_fscore_keras: 0.3649 - lr: 0.0010\n",
            "Epoch 3/7\n",
            "48/48 [==============================] - 66s 1s/step - loss: 0.2488 - score: 2.2587 - fscore_keras: 0.6913 - val_loss: 0.3467 - val_score: 19.3075 - val_fscore_keras: 0.1175 - lr: 0.0010\n",
            "Epoch 4/7\n",
            "48/48 [==============================] - 66s 1s/step - loss: 0.2429 - score: 2.1500 - fscore_keras: 0.7081 - val_loss: 0.3466 - val_score: 20.7400 - val_fscore_keras: 0.1098 - lr: 0.0010\n",
            "Epoch 5/7\n",
            "48/48 [==============================] - 66s 1s/step - loss: 0.2380 - score: 2.0599 - fscore_keras: 0.7204 - val_loss: 0.3436 - val_score: 16.0272 - val_fscore_keras: 0.1395 - lr: 0.0010\n",
            "Epoch 6/7\n",
            "48/48 [==============================] - 66s 1s/step - loss: 0.2358 - score: 2.0332 - fscore_keras: 0.7216 - val_loss: 0.3379 - val_score: 10.5159 - val_fscore_keras: 0.2076 - lr: 8.0000e-04\n",
            "Epoch 7/7\n",
            "48/48 [==============================] - 66s 1s/step - loss: 0.2329 - score: 1.9766 - fscore_keras: 0.7325 - val_loss: 0.3276 - val_score: 7.1272 - val_fscore_keras: 0.2959 - lr: 8.0000e-04\n",
            "Epoch 1/7\n",
            "48/48 [==============================] - 74s 2s/step - loss: 0.4480 - score: 3.8807 - fscore_keras: 0.5596 - val_loss: 0.3404 - val_score: 5221.3403 - val_fscore_keras: 5.9095e-04 - lr: 0.0010\n",
            "Epoch 2/7\n",
            "48/48 [==============================] - 66s 1s/step - loss: 0.2602 - score: 2.3097 - fscore_keras: 0.6999 - val_loss: 0.3395 - val_score: 97.6990 - val_fscore_keras: 0.0245 - lr: 0.0010\n",
            "Epoch 3/7\n",
            "48/48 [==============================] - 66s 1s/step - loss: 0.2521 - score: 2.1933 - fscore_keras: 0.7151 - val_loss: 0.3330 - val_score: 17.1731 - val_fscore_keras: 0.1288 - lr: 0.0010\n",
            "Epoch 4/7\n",
            "48/48 [==============================] - 67s 1s/step - loss: 0.2459 - score: 2.1127 - fscore_keras: 0.7240 - val_loss: 0.3255 - val_score: 9.0877 - val_fscore_keras: 0.2339 - lr: 0.0010\n",
            "Epoch 5/7\n",
            "48/48 [==============================] - 66s 1s/step - loss: 0.2427 - score: 2.0791 - fscore_keras: 0.7253 - val_loss: 0.3202 - val_score: 7.0418 - val_fscore_keras: 0.2956 - lr: 0.0010\n",
            "Epoch 6/7\n",
            "48/48 [==============================] - 66s 1s/step - loss: 0.2396 - score: 2.0623 - fscore_keras: 0.7236 - val_loss: 0.3057 - val_score: 5.0677 - val_fscore_keras: 0.3916 - lr: 0.0010\n",
            "Epoch 7/7\n",
            "48/48 [==============================] - 66s 1s/step - loss: 0.2379 - score: 2.0333 - fscore_keras: 0.7276 - val_loss: 0.2938 - val_score: 3.7937 - val_fscore_keras: 0.5013 - lr: 0.0010\n",
            "Epoch 1/7\n",
            "48/48 [==============================] - 66s 1s/step - loss: 0.4454 - score: 3.9425 - fscore_keras: 0.5731 - val_loss: 5.8435 - val_score: 22.2255 - val_fscore_keras: 0.2666 - lr: 0.0010\n",
            "Epoch 2/7\n",
            "48/48 [==============================] - 66s 1s/step - loss: 0.2617 - score: 2.3577 - fscore_keras: 0.6885 - val_loss: 0.4607 - val_score: 3.9223 - val_fscore_keras: 0.4678 - lr: 0.0010\n",
            "Epoch 3/7\n",
            "48/48 [==============================] - 65s 1s/step - loss: 0.2508 - score: 2.1986 - fscore_keras: 0.7109 - val_loss: 0.3375 - val_score: 26.7022 - val_fscore_keras: 0.0860 - lr: 0.0010\n",
            "Epoch 4/7\n",
            "48/48 [==============================] - 65s 1s/step - loss: 0.2468 - score: 2.1541 - fscore_keras: 0.7151 - val_loss: 0.3383 - val_score: 48.6243 - val_fscore_keras: 0.0493 - lr: 0.0010\n",
            "Epoch 5/7\n",
            "48/48 [==============================] - 66s 1s/step - loss: 0.2428 - score: 2.0802 - fscore_keras: 0.7242 - val_loss: 0.3385 - val_score: 57.5641 - val_fscore_keras: 0.0417 - lr: 0.0010\n",
            "Epoch 6/7\n",
            "48/48 [==============================] - 66s 1s/step - loss: 0.2411 - score: 2.0773 - fscore_keras: 0.7194 - val_loss: 0.3268 - val_score: 10.3717 - val_fscore_keras: 0.2055 - lr: 0.0010\n",
            "Epoch 7/7\n",
            "48/48 [==============================] - 66s 1s/step - loss: 0.2388 - score: 2.0664 - fscore_keras: 0.7214 - val_loss: 0.3278 - val_score: 8.3267 - val_fscore_keras: 0.2565 - lr: 0.0010\n",
            "Epoch 1/7\n",
            "48/48 [==============================] - 66s 1s/step - loss: 0.4451 - score: 3.9699 - fscore_keras: 0.5543 - val_loss: 2.9228 - val_score: 11.4237 - val_fscore_keras: 0.2684 - lr: 0.0010\n",
            "Epoch 2/7\n",
            "48/48 [==============================] - 66s 1s/step - loss: 0.2572 - score: 2.3481 - fscore_keras: 0.6855 - val_loss: 0.5127 - val_score: 4.6426 - val_fscore_keras: 0.4156 - lr: 0.0010\n",
            "Epoch 3/7\n",
            "48/48 [==============================] - 66s 1s/step - loss: 0.2482 - score: 2.2086 - fscore_keras: 0.7042 - val_loss: 0.3460 - val_score: 8.4867 - val_fscore_keras: 0.2575 - lr: 0.0010\n",
            "Epoch 4/7\n",
            "48/48 [==============================] - 66s 1s/step - loss: 0.2426 - score: 2.1164 - fscore_keras: 0.7155 - val_loss: 0.3450 - val_score: 15.5560 - val_fscore_keras: 0.1444 - lr: 0.0010\n",
            "Epoch 5/7\n",
            "48/48 [==============================] - 66s 1s/step - loss: 0.2378 - score: 2.0508 - fscore_keras: 0.7267 - val_loss: 0.3468 - val_score: 17.1373 - val_fscore_keras: 0.1319 - lr: 0.0010\n",
            "Epoch 6/7\n",
            "48/48 [==============================] - 66s 1s/step - loss: 0.2348 - score: 2.0110 - fscore_keras: 0.7295 - val_loss: 0.3382 - val_score: 9.4844 - val_fscore_keras: 0.2296 - lr: 0.0010\n",
            "Epoch 7/7\n",
            "48/48 [==============================] - 66s 1s/step - loss: 0.2308 - score: 1.9487 - fscore_keras: 0.7381 - val_loss: 0.3340 - val_score: 7.5023 - val_fscore_keras: 0.2872 - lr: 0.0010\n",
            "Epoch 1/7\n",
            "48/48 [==============================] - 66s 1s/step - loss: 0.4616 - score: 3.8476 - fscore_keras: 0.5538 - val_loss: 0.3401 - val_score: 75.9566 - val_fscore_keras: 0.0300 - lr: 0.0010\n",
            "Epoch 2/7\n",
            "48/48 [==============================] - 66s 1s/step - loss: 0.2622 - score: 2.3815 - fscore_keras: 0.6840 - val_loss: 0.3344 - val_score: 13.0184 - val_fscore_keras: 0.1680 - lr: 0.0010\n",
            "Epoch 3/7\n",
            "48/48 [==============================] - 66s 1s/step - loss: 0.2550 - score: 2.2911 - fscore_keras: 0.6935 - val_loss: 0.3270 - val_score: 7.4737 - val_fscore_keras: 0.2829 - lr: 0.0010\n",
            "Epoch 4/7\n",
            "48/48 [==============================] - 65s 1s/step - loss: 0.2480 - score: 2.1816 - fscore_keras: 0.7093 - val_loss: 0.3241 - val_score: 8.6044 - val_fscore_keras: 0.2463 - lr: 0.0010\n",
            "Epoch 5/7\n",
            "48/48 [==============================] - 66s 1s/step - loss: 0.2466 - score: 2.1569 - fscore_keras: 0.7112 - val_loss: 0.3207 - val_score: 8.7293 - val_fscore_keras: 0.2398 - lr: 0.0010\n",
            "Epoch 6/7\n",
            "48/48 [==============================] - 67s 1s/step - loss: 0.2417 - score: 2.0751 - fscore_keras: 0.7257 - val_loss: 0.3143 - val_score: 6.9171 - val_fscore_keras: 0.2949 - lr: 0.0010\n",
            "Epoch 7/7\n",
            "48/48 [==============================] - 66s 1s/step - loss: 0.2412 - score: 2.0626 - fscore_keras: 0.7281 - val_loss: 0.3125 - val_score: 6.8406 - val_fscore_keras: 0.2968 - lr: 0.0010\n",
            "Epoch 1/7\n",
            "48/48 [==============================] - 68s 1s/step - loss: 0.3967 - score: 3.4649 - fscore_keras: 0.5848 - val_loss: 0.3433 - val_score: 4.8230 - val_fscore_keras: 0.4019 - lr: 0.0010\n",
            "Epoch 2/7\n",
            "48/48 [==============================] - 66s 1s/step - loss: 0.2576 - score: 2.3011 - fscore_keras: 0.6953 - val_loss: 0.3284 - val_score: 9.7467 - val_fscore_keras: 0.2207 - lr: 0.0010\n",
            "Epoch 3/7\n",
            "48/48 [==============================] - 66s 1s/step - loss: 0.2492 - score: 2.1776 - fscore_keras: 0.7114 - val_loss: 0.3340 - val_score: 16.9447 - val_fscore_keras: 0.1313 - lr: 0.0010\n",
            "Epoch 4/7\n",
            "48/48 [==============================] - 66s 1s/step - loss: 0.2451 - score: 2.1271 - fscore_keras: 0.7146 - val_loss: 0.3339 - val_score: 20.4556 - val_fscore_keras: 0.1093 - lr: 0.0010\n",
            "Epoch 5/7\n",
            "37/48 [======================>.......] - ETA: 12s - loss: 0.2438 - score: 2.0945 - fscore_keras: 0.7205"
          ],
          "name": "stdout"
        }
      ]
    },
    {
      "cell_type": "code",
      "metadata": {
        "id": "VI-IspWcVGC1",
        "colab_type": "code",
        "colab": {}
      },
      "source": [
        ""
      ],
      "execution_count": null,
      "outputs": []
    }
  ]
}