{
  "nbformat": 4,
  "nbformat_minor": 0,
  "metadata": {
    "colab": {
      "name": "더본코리아기업가치평가ipynb",
      "provenance": [],
      "toc_visible": true,
      "machine_shape": "hm",
      "mount_file_id": "10G2RQB1goV4F62W3BmDfEpyzXWHD7z17",
      "authorship_tag": "ABX9TyPawpFbqkfOeOOTkKcSQukg",
      "include_colab_link": true
    },
    "kernelspec": {
      "name": "python3",
      "display_name": "Python 3"
    },
    "accelerator": "TPU"
  },
  "cells": [
    {
      "cell_type": "markdown",
      "metadata": {
        "id": "view-in-github",
        "colab_type": "text"
      },
      "source": [
        "<a href=\"https://colab.research.google.com/github/handochan/Data/blob/master/%EB%8D%94%EB%B3%B8%EC%BD%94%EB%A6%AC%EC%95%84%EA%B8%B0%EC%97%85%EA%B0%80%EC%B9%98%ED%8F%89%EA%B0%80ipynb.ipynb\" target=\"_parent\"><img src=\"https://colab.research.google.com/assets/colab-badge.svg\" alt=\"Open In Colab\"/></a>"
      ]
    },
    {
      "cell_type": "code",
      "metadata": {
        "id": "fDuxsKfrHvTH",
        "colab": {
          "base_uri": "https://localhost:8080/"
        },
        "outputId": "83ee82ef-4851-41e6-8dcb-784c4d1af254"
      },
      "source": [
        "#한글폰트설치\n",
        "!sudo apt-get install -y fonts-nanum\n",
        "!sudo fc-cache -fv\n",
        "!rm ~/.cache/matplotlib -rf"
      ],
      "execution_count": null,
      "outputs": [
        {
          "output_type": "stream",
          "text": [
            "Reading package lists... Done\n",
            "Building dependency tree       \n",
            "Reading state information... Done\n",
            "The following NEW packages will be installed:\n",
            "  fonts-nanum\n",
            "0 upgraded, 1 newly installed, 0 to remove and 14 not upgraded.\n",
            "Need to get 9,604 kB of archives.\n",
            "After this operation, 29.5 MB of additional disk space will be used.\n",
            "Get:1 http://archive.ubuntu.com/ubuntu bionic/universe amd64 fonts-nanum all 20170925-1 [9,604 kB]\n",
            "Fetched 9,604 kB in 1s (8,640 kB/s)\n",
            "debconf: unable to initialize frontend: Dialog\n",
            "debconf: (No usable dialog-like program is installed, so the dialog based frontend cannot be used. at /usr/share/perl5/Debconf/FrontEnd/Dialog.pm line 76, <> line 1.)\n",
            "debconf: falling back to frontend: Readline\n",
            "debconf: unable to initialize frontend: Readline\n",
            "debconf: (This frontend requires a controlling tty.)\n",
            "debconf: falling back to frontend: Teletype\n",
            "dpkg-preconfigure: unable to re-open stdin: \n",
            "Selecting previously unselected package fonts-nanum.\n",
            "(Reading database ... 144865 files and directories currently installed.)\n",
            "Preparing to unpack .../fonts-nanum_20170925-1_all.deb ...\n",
            "Unpacking fonts-nanum (20170925-1) ...\n",
            "Setting up fonts-nanum (20170925-1) ...\n",
            "Processing triggers for fontconfig (2.12.6-0ubuntu2) ...\n",
            "/usr/share/fonts: caching, new cache contents: 0 fonts, 1 dirs\n",
            "/usr/share/fonts/truetype: caching, new cache contents: 0 fonts, 3 dirs\n",
            "/usr/share/fonts/truetype/humor-sans: caching, new cache contents: 1 fonts, 0 dirs\n",
            "/usr/share/fonts/truetype/liberation: caching, new cache contents: 16 fonts, 0 dirs\n",
            "/usr/share/fonts/truetype/nanum: caching, new cache contents: 10 fonts, 0 dirs\n",
            "/usr/local/share/fonts: caching, new cache contents: 0 fonts, 0 dirs\n",
            "/root/.local/share/fonts: skipping, no such directory\n",
            "/root/.fonts: skipping, no such directory\n",
            "/var/cache/fontconfig: cleaning cache directory\n",
            "/root/.cache/fontconfig: not cleaning non-existent cache directory\n",
            "/root/.fontconfig: not cleaning non-existent cache directory\n",
            "fc-cache: succeeded\n"
          ],
          "name": "stdout"
        }
      ]
    },
    {
      "cell_type": "markdown",
      "metadata": {
        "id": "g8y1QdKSMd8q"
      },
      "source": [
        "# 1. 기업 재무 데이터 분석\n",
        "  * 분석하는 목표 : 이 회사 얼마짜리? (기업 가치 평가)\n",
        "  * 가격의 구성 : 내재가치(청산가치) + 프리미엄(or디스카운트)\n"
      ]
    },
    {
      "cell_type": "markdown",
      "metadata": {
        "id": "6AFPRlLIIAmP"
      },
      "source": [
        "# 2. 데이터 수집 및 정리\n",
        "  * 기업 재무에 중심이 되는 2개의 식에 들어있는 6개의 항목 중심으로 데이터 수집\n",
        "      * 이익 = 매출 - 지출\n",
        "      * 자산 = 부채 + 자본\n",
        "\n",
        "\n",
        "  * 현금화가 어려운 자산\n",
        "    * 재고자산 : 상품, 제품, 원재료, 저장품\n",
        "    * 무형자산 : 산업재산권(특허권, 상표권), 소프트웨어, 건설중인 자산\n",
        "      * 이 중에서 건설중인 자산은 현금화가 가능할 것 같아서 따로 추출"
      ]
    },
    {
      "cell_type": "code",
      "metadata": {
        "id": "BPfqwWeuk5fD"
      },
      "source": [
        "import pandas as pd\n",
        "import matplotlib.pyplot as plt\n",
        "import seaborn as sns"
      ],
      "execution_count": null,
      "outputs": []
    },
    {
      "cell_type": "code",
      "metadata": {
        "id": "4ceKzD-4l_Wy"
      },
      "source": [
        "#한글폰트실행\n",
        "plt.rc('font', family='NanumBarunGothic')"
      ],
      "execution_count": null,
      "outputs": []
    },
    {
      "cell_type": "code",
      "metadata": {
        "id": "jnKI0NV9lBTq"
      },
      "source": [
        "theborn = pd.read_csv('/content/drive/MyDrive/더본코리아재무분석/더본코리아.csv')"
      ],
      "execution_count": null,
      "outputs": []
    },
    {
      "cell_type": "code",
      "metadata": {
        "colab": {
          "base_uri": "https://localhost:8080/",
          "height": 297
        },
        "id": "_kjKxIiplQTP",
        "outputId": "667d24ac-1f57-47b5-9473-cc3aff4383c2"
      },
      "source": [
        "theborn"
      ],
      "execution_count": null,
      "outputs": [
        {
          "output_type": "execute_result",
          "data": {
            "text/html": [
              "<div>\n",
              "<style scoped>\n",
              "    .dataframe tbody tr th:only-of-type {\n",
              "        vertical-align: middle;\n",
              "    }\n",
              "\n",
              "    .dataframe tbody tr th {\n",
              "        vertical-align: top;\n",
              "    }\n",
              "\n",
              "    .dataframe thead th {\n",
              "        text-align: right;\n",
              "    }\n",
              "</style>\n",
              "<table border=\"1\" class=\"dataframe\">\n",
              "  <thead>\n",
              "    <tr style=\"text-align: right;\">\n",
              "      <th></th>\n",
              "      <th>Unnamed: 0</th>\n",
              "      <th>자산총계</th>\n",
              "      <th>부채총계</th>\n",
              "      <th>자본총계</th>\n",
              "      <th>매출액</th>\n",
              "      <th>매출원가</th>\n",
              "      <th>판매비와관리비</th>\n",
              "      <th>당기순이익</th>\n",
              "      <th>재고자산</th>\n",
              "      <th>무형자산</th>\n",
              "      <th>건설중인자산(무형자산)</th>\n",
              "    </tr>\n",
              "  </thead>\n",
              "  <tbody>\n",
              "    <tr>\n",
              "      <th>0</th>\n",
              "      <td>2012</td>\n",
              "      <td>24813586135</td>\n",
              "      <td>15704367083</td>\n",
              "      <td>9109219052</td>\n",
              "      <td>68323290324</td>\n",
              "      <td>50434441202</td>\n",
              "      <td>13680909003</td>\n",
              "      <td>3530361094</td>\n",
              "      <td>0</td>\n",
              "      <td>97716378</td>\n",
              "      <td>0</td>\n",
              "    </tr>\n",
              "    <tr>\n",
              "      <th>1</th>\n",
              "      <td>2013</td>\n",
              "      <td>34008773844</td>\n",
              "      <td>18785999730</td>\n",
              "      <td>15222774114</td>\n",
              "      <td>77502400639</td>\n",
              "      <td>54535796909</td>\n",
              "      <td>17914109527</td>\n",
              "      <td>2904881016</td>\n",
              "      <td>709037614</td>\n",
              "      <td>1844460816</td>\n",
              "      <td>0</td>\n",
              "    </tr>\n",
              "    <tr>\n",
              "      <th>2</th>\n",
              "      <td>2014</td>\n",
              "      <td>49362426187</td>\n",
              "      <td>29657005069</td>\n",
              "      <td>19705421118</td>\n",
              "      <td>92742228918</td>\n",
              "      <td>65633348901</td>\n",
              "      <td>20790967556</td>\n",
              "      <td>4443562855</td>\n",
              "      <td>972638631</td>\n",
              "      <td>1777598881</td>\n",
              "      <td>0</td>\n",
              "    </tr>\n",
              "    <tr>\n",
              "      <th>3</th>\n",
              "      <td>2015</td>\n",
              "      <td>70871878747</td>\n",
              "      <td>45836085167</td>\n",
              "      <td>25035793580</td>\n",
              "      <td>123861782375</td>\n",
              "      <td>84793971170</td>\n",
              "      <td>28093328209</td>\n",
              "      <td>6960110664</td>\n",
              "      <td>1469379798</td>\n",
              "      <td>198720151</td>\n",
              "      <td>0</td>\n",
              "    </tr>\n",
              "    <tr>\n",
              "      <th>4</th>\n",
              "      <td>2016</td>\n",
              "      <td>71249205263</td>\n",
              "      <td>27371864424</td>\n",
              "      <td>43877340839</td>\n",
              "      <td>174871404102</td>\n",
              "      <td>124471892823</td>\n",
              "      <td>30637025853</td>\n",
              "      <td>19246938573</td>\n",
              "      <td>1617853963</td>\n",
              "      <td>295930984</td>\n",
              "      <td>28653795</td>\n",
              "    </tr>\n",
              "    <tr>\n",
              "      <th>5</th>\n",
              "      <td>2017</td>\n",
              "      <td>84998333055</td>\n",
              "      <td>35339190464</td>\n",
              "      <td>49659142591</td>\n",
              "      <td>174084567921</td>\n",
              "      <td>126159869983</td>\n",
              "      <td>35117062462</td>\n",
              "      <td>5982224171</td>\n",
              "      <td>1626572923</td>\n",
              "      <td>300982429</td>\n",
              "      <td>23754003</td>\n",
              "    </tr>\n",
              "    <tr>\n",
              "      <th>6</th>\n",
              "      <td>2018</td>\n",
              "      <td>89729934244</td>\n",
              "      <td>33465620858</td>\n",
              "      <td>56264313386</td>\n",
              "      <td>102466002311</td>\n",
              "      <td>53061135337</td>\n",
              "      <td>39206791901</td>\n",
              "      <td>6586517717</td>\n",
              "      <td>2164476080</td>\n",
              "      <td>414897549</td>\n",
              "      <td>98519091</td>\n",
              "    </tr>\n",
              "    <tr>\n",
              "      <th>7</th>\n",
              "      <td>2019</td>\n",
              "      <td>109014451640</td>\n",
              "      <td>44715637395</td>\n",
              "      <td>64298814245</td>\n",
              "      <td>120090805080</td>\n",
              "      <td>60613461941</td>\n",
              "      <td>48209097826</td>\n",
              "      <td>7953088605</td>\n",
              "      <td>2484794231</td>\n",
              "      <td>1051561939</td>\n",
              "      <td>657062354</td>\n",
              "    </tr>\n",
              "  </tbody>\n",
              "</table>\n",
              "</div>"
            ],
            "text/plain": [
              "   Unnamed: 0          자산총계         부채총계  ...        재고자산        무형자산  건설중인자산(무형자산)\n",
              "0        2012   24813586135  15704367083  ...           0    97716378             0\n",
              "1        2013   34008773844  18785999730  ...   709037614  1844460816             0\n",
              "2        2014   49362426187  29657005069  ...   972638631  1777598881             0\n",
              "3        2015   70871878747  45836085167  ...  1469379798   198720151             0\n",
              "4        2016   71249205263  27371864424  ...  1617853963   295930984      28653795\n",
              "5        2017   84998333055  35339190464  ...  1626572923   300982429      23754003\n",
              "6        2018   89729934244  33465620858  ...  2164476080   414897549      98519091\n",
              "7        2019  109014451640  44715637395  ...  2484794231  1051561939     657062354\n",
              "\n",
              "[8 rows x 11 columns]"
            ]
          },
          "metadata": {
            "tags": []
          },
          "execution_count": 25
        }
      ]
    },
    {
      "cell_type": "code",
      "metadata": {
        "id": "an1_LHGLpKdO"
      },
      "source": [
        "theborn.rename(columns = {'Unnamed: 0' : '년도'}, inplace = True)"
      ],
      "execution_count": null,
      "outputs": []
    },
    {
      "cell_type": "code",
      "metadata": {
        "colab": {
          "base_uri": "https://localhost:8080/",
          "height": 297
        },
        "id": "JrOh7aPPpdJC",
        "outputId": "d1a4251a-a159-45d0-8920-e422d4749a4e"
      },
      "source": [
        "theborn"
      ],
      "execution_count": null,
      "outputs": [
        {
          "output_type": "execute_result",
          "data": {
            "text/html": [
              "<div>\n",
              "<style scoped>\n",
              "    .dataframe tbody tr th:only-of-type {\n",
              "        vertical-align: middle;\n",
              "    }\n",
              "\n",
              "    .dataframe tbody tr th {\n",
              "        vertical-align: top;\n",
              "    }\n",
              "\n",
              "    .dataframe thead th {\n",
              "        text-align: right;\n",
              "    }\n",
              "</style>\n",
              "<table border=\"1\" class=\"dataframe\">\n",
              "  <thead>\n",
              "    <tr style=\"text-align: right;\">\n",
              "      <th></th>\n",
              "      <th>년도</th>\n",
              "      <th>자산총계</th>\n",
              "      <th>부채총계</th>\n",
              "      <th>자본총계</th>\n",
              "      <th>매출액</th>\n",
              "      <th>매출원가</th>\n",
              "      <th>판매비와관리비</th>\n",
              "      <th>당기순이익</th>\n",
              "      <th>재고자산</th>\n",
              "      <th>무형자산</th>\n",
              "      <th>건설중인자산(무형자산)</th>\n",
              "    </tr>\n",
              "  </thead>\n",
              "  <tbody>\n",
              "    <tr>\n",
              "      <th>0</th>\n",
              "      <td>2012</td>\n",
              "      <td>24813586135</td>\n",
              "      <td>15704367083</td>\n",
              "      <td>9109219052</td>\n",
              "      <td>68323290324</td>\n",
              "      <td>50434441202</td>\n",
              "      <td>13680909003</td>\n",
              "      <td>3530361094</td>\n",
              "      <td>0</td>\n",
              "      <td>97716378</td>\n",
              "      <td>0</td>\n",
              "    </tr>\n",
              "    <tr>\n",
              "      <th>1</th>\n",
              "      <td>2013</td>\n",
              "      <td>34008773844</td>\n",
              "      <td>18785999730</td>\n",
              "      <td>15222774114</td>\n",
              "      <td>77502400639</td>\n",
              "      <td>54535796909</td>\n",
              "      <td>17914109527</td>\n",
              "      <td>2904881016</td>\n",
              "      <td>709037614</td>\n",
              "      <td>1844460816</td>\n",
              "      <td>0</td>\n",
              "    </tr>\n",
              "    <tr>\n",
              "      <th>2</th>\n",
              "      <td>2014</td>\n",
              "      <td>49362426187</td>\n",
              "      <td>29657005069</td>\n",
              "      <td>19705421118</td>\n",
              "      <td>92742228918</td>\n",
              "      <td>65633348901</td>\n",
              "      <td>20790967556</td>\n",
              "      <td>4443562855</td>\n",
              "      <td>972638631</td>\n",
              "      <td>1777598881</td>\n",
              "      <td>0</td>\n",
              "    </tr>\n",
              "    <tr>\n",
              "      <th>3</th>\n",
              "      <td>2015</td>\n",
              "      <td>70871878747</td>\n",
              "      <td>45836085167</td>\n",
              "      <td>25035793580</td>\n",
              "      <td>123861782375</td>\n",
              "      <td>84793971170</td>\n",
              "      <td>28093328209</td>\n",
              "      <td>6960110664</td>\n",
              "      <td>1469379798</td>\n",
              "      <td>198720151</td>\n",
              "      <td>0</td>\n",
              "    </tr>\n",
              "    <tr>\n",
              "      <th>4</th>\n",
              "      <td>2016</td>\n",
              "      <td>71249205263</td>\n",
              "      <td>27371864424</td>\n",
              "      <td>43877340839</td>\n",
              "      <td>174871404102</td>\n",
              "      <td>124471892823</td>\n",
              "      <td>30637025853</td>\n",
              "      <td>19246938573</td>\n",
              "      <td>1617853963</td>\n",
              "      <td>295930984</td>\n",
              "      <td>28653795</td>\n",
              "    </tr>\n",
              "    <tr>\n",
              "      <th>5</th>\n",
              "      <td>2017</td>\n",
              "      <td>84998333055</td>\n",
              "      <td>35339190464</td>\n",
              "      <td>49659142591</td>\n",
              "      <td>174084567921</td>\n",
              "      <td>126159869983</td>\n",
              "      <td>35117062462</td>\n",
              "      <td>5982224171</td>\n",
              "      <td>1626572923</td>\n",
              "      <td>300982429</td>\n",
              "      <td>23754003</td>\n",
              "    </tr>\n",
              "    <tr>\n",
              "      <th>6</th>\n",
              "      <td>2018</td>\n",
              "      <td>89729934244</td>\n",
              "      <td>33465620858</td>\n",
              "      <td>56264313386</td>\n",
              "      <td>102466002311</td>\n",
              "      <td>53061135337</td>\n",
              "      <td>39206791901</td>\n",
              "      <td>6586517717</td>\n",
              "      <td>2164476080</td>\n",
              "      <td>414897549</td>\n",
              "      <td>98519091</td>\n",
              "    </tr>\n",
              "    <tr>\n",
              "      <th>7</th>\n",
              "      <td>2019</td>\n",
              "      <td>109014451640</td>\n",
              "      <td>44715637395</td>\n",
              "      <td>64298814245</td>\n",
              "      <td>120090805080</td>\n",
              "      <td>60613461941</td>\n",
              "      <td>48209097826</td>\n",
              "      <td>7953088605</td>\n",
              "      <td>2484794231</td>\n",
              "      <td>1051561939</td>\n",
              "      <td>657062354</td>\n",
              "    </tr>\n",
              "  </tbody>\n",
              "</table>\n",
              "</div>"
            ],
            "text/plain": [
              "     년도          자산총계         부채총계  ...        재고자산        무형자산  건설중인자산(무형자산)\n",
              "0  2012   24813586135  15704367083  ...           0    97716378             0\n",
              "1  2013   34008773844  18785999730  ...   709037614  1844460816             0\n",
              "2  2014   49362426187  29657005069  ...   972638631  1777598881             0\n",
              "3  2015   70871878747  45836085167  ...  1469379798   198720151             0\n",
              "4  2016   71249205263  27371864424  ...  1617853963   295930984      28653795\n",
              "5  2017   84998333055  35339190464  ...  1626572923   300982429      23754003\n",
              "6  2018   89729934244  33465620858  ...  2164476080   414897549      98519091\n",
              "7  2019  109014451640  44715637395  ...  2484794231  1051561939     657062354\n",
              "\n",
              "[8 rows x 11 columns]"
            ]
          },
          "metadata": {
            "tags": []
          },
          "execution_count": 27
        }
      ]
    },
    {
      "cell_type": "code",
      "metadata": {
        "colab": {
          "base_uri": "https://localhost:8080/",
          "height": 307
        },
        "id": "P3NDR92PPTgv",
        "outputId": "558861de-d522-4764-a4a5-b8eb09bc2a02"
      },
      "source": [
        "sns.pointplot(data=theborn, x='년도', y='자산총계')"
      ],
      "execution_count": null,
      "outputs": [
        {
          "output_type": "execute_result",
          "data": {
            "text/plain": [
              "<matplotlib.axes._subplots.AxesSubplot at 0x7f98b6f74358>"
            ]
          },
          "metadata": {
            "tags": []
          },
          "execution_count": 61
        },
        {
          "output_type": "display_data",
          "data": {
            "image/png": "[encoded data removed]",
            "text/plain": [
              "<Figure size 432x288 with 1 Axes>"
            ]
          },
          "metadata": {
            "tags": [],
            "needs_background": "light"
          }
        }
      ]
    },
    {
      "cell_type": "code",
      "metadata": {
        "colab": {
          "base_uri": "https://localhost:8080/",
          "height": 307
        },
        "id": "X2OmEcNSPb19",
        "outputId": "b99d1651-13de-4cf0-e526-87ae0748c8af"
      },
      "source": [
        "sns.pointplot(data=theborn, x='년도', y='부채총계')"
      ],
      "execution_count": null,
      "outputs": [
        {
          "output_type": "execute_result",
          "data": {
            "text/plain": [
              "<matplotlib.axes._subplots.AxesSubplot at 0x7f98b6ef5f28>"
            ]
          },
          "metadata": {
            "tags": []
          },
          "execution_count": 62
        },
        {
          "output_type": "display_data",
          "data": {
            "image/png": "[encoded data removed]",
            "text/plain": [
              "<Figure size 432x288 with 1 Axes>"
            ]
          },
          "metadata": {
            "tags": [],
            "needs_background": "light"
          }
        }
      ]
    },
    {
      "cell_type": "code",
      "metadata": {
        "colab": {
          "base_uri": "https://localhost:8080/",
          "height": 307
        },
        "id": "XQNgLB4BPfD9",
        "outputId": "9f619bc4-7b5e-457b-b763-0ce5c6fdf5f5"
      },
      "source": [
        "sns.pointplot(data=theborn, x='년도', y='자본총계')"
      ],
      "execution_count": null,
      "outputs": [
        {
          "output_type": "execute_result",
          "data": {
            "text/plain": [
              "<matplotlib.axes._subplots.AxesSubplot at 0x7f98b6f66f28>"
            ]
          },
          "metadata": {
            "tags": []
          },
          "execution_count": 63
        },
        {
          "output_type": "display_data",
          "data": {
            "image/png": "[encoded data removed]",
            "text/plain": [
              "<Figure size 432x288 with 1 Axes>"
            ]
          },
          "metadata": {
            "tags": [],
            "needs_background": "light"
          }
        }
      ]
    },
    {
      "cell_type": "code",
      "metadata": {
        "colab": {
          "base_uri": "https://localhost:8080/",
          "height": 307
        },
        "id": "d_Dzfd1EPixF",
        "outputId": "c09ae580-8f0c-46f6-9e0e-c13a97a63f36"
      },
      "source": [
        "sns.pointplot(data=theborn, x='년도', y='매출액')"
      ],
      "execution_count": null,
      "outputs": [
        {
          "output_type": "execute_result",
          "data": {
            "text/plain": [
              "<matplotlib.axes._subplots.AxesSubplot at 0x7f98b6e5b128>"
            ]
          },
          "metadata": {
            "tags": []
          },
          "execution_count": 64
        },
        {
          "output_type": "display_data",
          "data": {
            "image/png": "[encoded data removed]",
            "text/plain": [
              "<Figure size 432x288 with 1 Axes>"
            ]
          },
          "metadata": {
            "tags": [],
            "needs_background": "light"
          }
        }
      ]
    },
    {
      "cell_type": "code",
      "metadata": {
        "colab": {
          "base_uri": "https://localhost:8080/",
          "height": 307
        },
        "id": "ZWtkZ_2OPlkz",
        "outputId": "f2416238-f5f3-41bd-8760-4d37d7e83bae"
      },
      "source": [
        "sns.pointplot(data=theborn, x='년도', y='매출원가')"
      ],
      "execution_count": null,
      "outputs": [
        {
          "output_type": "execute_result",
          "data": {
            "text/plain": [
              "<matplotlib.axes._subplots.AxesSubplot at 0x7f98b6dc22b0>"
            ]
          },
          "metadata": {
            "tags": []
          },
          "execution_count": 65
        },
        {
          "output_type": "display_data",
          "data": {
            "image/png": "[encoded data removed]",
            "text/plain": [
              "<Figure size 432x288 with 1 Axes>"
            ]
          },
          "metadata": {
            "tags": [],
            "needs_background": "light"
          }
        }
      ]
    },
    {
      "cell_type": "code",
      "metadata": {
        "colab": {
          "base_uri": "https://localhost:8080/",
          "height": 307
        },
        "id": "GXccQDQHPpZM",
        "outputId": "8f16c027-97fa-4c0b-9c6f-1f5ca7916529"
      },
      "source": [
        "sns.pointplot(data=theborn, x='년도', y='판매비와관리비')"
      ],
      "execution_count": null,
      "outputs": [
        {
          "output_type": "execute_result",
          "data": {
            "text/plain": [
              "<matplotlib.axes._subplots.AxesSubplot at 0x7f98b6d51198>"
            ]
          },
          "metadata": {
            "tags": []
          },
          "execution_count": 66
        },
        {
          "output_type": "display_data",
          "data": {
            "image/png": "[encoded data removed]",
            "text/plain": [
              "<Figure size 432x288 with 1 Axes>"
            ]
          },
          "metadata": {
            "tags": [],
            "needs_background": "light"
          }
        }
      ]
    },
    {
      "cell_type": "code",
      "metadata": {
        "colab": {
          "base_uri": "https://localhost:8080/",
          "height": 307
        },
        "id": "bqqAoxjQPrc4",
        "outputId": "90c65b99-bdcf-47c7-8e67-5dfb10ddebf8"
      },
      "source": [
        "sns.pointplot(data=theborn, x='년도', y='당기순이익')"
      ],
      "execution_count": null,
      "outputs": [
        {
          "output_type": "execute_result",
          "data": {
            "text/plain": [
              "<matplotlib.axes._subplots.AxesSubplot at 0x7f98b6cd5a20>"
            ]
          },
          "metadata": {
            "tags": []
          },
          "execution_count": 68
        },
        {
          "output_type": "display_data",
          "data": {
            "image/png": "[encoded data removed]",
            "text/plain": [
              "<Figure size 432x288 with 1 Axes>"
            ]
          },
          "metadata": {
            "tags": [],
            "needs_background": "light"
          }
        }
      ]
    },
    {
      "cell_type": "markdown",
      "metadata": {
        "id": "741bnOw3M3IL"
      },
      "source": [
        "# 3. 내재가치 평가\n",
        "  * 파는 사람의 입장에서 생각하면 접근 용이\n",
        "  * '청산가치'를 계산\n",
        "    * 청산가치 : 회사가 당장 내일 문을 닫는다고 가정하고, 오늘 모든 것을 다 처분했을 때 남는 현금의 양\n"
      ]
    },
    {
      "cell_type": "markdown",
      "metadata": {
        "id": "uyF9Jzy7nHaL"
      },
      "source": [
        "##  청산가치 계산하기\n",
        "  * 청산가치 = 전체 자산 - 남에게 빌린돈 (타인, 부채) - 현금화 하기 어려운 자산\n",
        "  * 청산가치 = 자본(자기자본) - 현금화 하기 어려운 자산\n",
        "  * 더본코리아 현금화 하기 어려운 자산 : 재고자산(30%로 설정), 무형자산"
      ]
    },
    {
      "cell_type": "code",
      "metadata": {
        "id": "eEI_WRCfIRB4"
      },
      "source": [
        "# 파이썬 데이터 사칙연산 : add, sub, mul, div"
      ],
      "execution_count": null,
      "outputs": []
    },
    {
      "cell_type": "code",
      "metadata": {
        "id": "rMVbpEt8ovUU"
      },
      "source": [
        "pd.options.display.float_format = '{:.2f}'.format"
      ],
      "execution_count": null,
      "outputs": []
    },
    {
      "cell_type": "code",
      "metadata": {
        "colab": {
          "base_uri": "https://localhost:8080/"
        },
        "id": "4EjvBbhhnu6C",
        "outputId": "03651a69-32b2-4605-f9b1-1157f1e24059"
      },
      "source": [
        "theborn['내재가치'] = theborn['자본총계'].sub(theborn['무형자산']).sub(theborn['재고자산'].mul(0.7)).add(theborn['건설중인자산(무형자산)'])\n",
        "theborn['내재가치']"
      ],
      "execution_count": null,
      "outputs": [
        {
          "output_type": "execute_result",
          "data": {
            "text/plain": [
              "0    9011502674.00\n",
              "1   12881986968.20\n",
              "2   17246975195.30\n",
              "3   23808507570.40\n",
              "4   42477565875.90\n",
              "5   48243313118.90\n",
              "6   54432801672.00\n",
              "7   62164958698.30\n",
              "Name: 내재가치, dtype: float64"
            ]
          },
          "metadata": {
            "tags": []
          },
          "execution_count": 80
        }
      ]
    },
    {
      "cell_type": "code",
      "metadata": {
        "id": "N8ElQiBgoRvE"
      },
      "source": [
        "# 숫자 표기법 변환\n",
        "# pd.options.display.float_format = '{:.2f}'.format\n",
        "\n",
        "# 그래프 축 숫자 표기법 변환\n",
        "# plt.ticklabel_format(style = \"plain\")     "
      ],
      "execution_count": null,
      "outputs": []
    },
    {
      "cell_type": "code",
      "metadata": {
        "colab": {
          "base_uri": "https://localhost:8080/",
          "height": 297
        },
        "id": "vnSzOVDDoty8",
        "outputId": "9a98ea85-3ab4-4bb7-dcc6-363a00613b26"
      },
      "source": [
        "# 내재가치 lineplot\n",
        "plt.ticklabel_format(style = \"plain\")\n",
        "sns.lineplot(data = theborn, x='년도', y='내재가치')"
      ],
      "execution_count": null,
      "outputs": [
        {
          "output_type": "execute_result",
          "data": {
            "text/plain": [
              "<matplotlib.axes._subplots.AxesSubplot at 0x7f98b6cebd30>"
            ]
          },
          "metadata": {
            "tags": []
          },
          "execution_count": 82
        },
        {
          "output_type": "display_data",
          "data": {
            "image/png": "[encoded data removed]",
            "text/plain": [
              "<Figure size 432x288 with 1 Axes>"
            ]
          },
          "metadata": {
            "tags": [],
            "needs_background": "light"
          }
        }
      ]
    },
    {
      "cell_type": "code",
      "metadata": {
        "colab": {
          "base_uri": "https://localhost:8080/",
          "height": 297
        },
        "id": "kBaH3WXVpowH",
        "outputId": "6e32de88-5e01-4e03-d59c-40d3202165da"
      },
      "source": [
        "plt.ticklabel_format(style = \"plain\")\n",
        "sns.pointplot(data=theborn, x='년도', y='내재가치')"
      ],
      "execution_count": null,
      "outputs": [
        {
          "output_type": "execute_result",
          "data": {
            "text/plain": [
              "<matplotlib.axes._subplots.AxesSubplot at 0x7f98b6b99278>"
            ]
          },
          "metadata": {
            "tags": []
          },
          "execution_count": 83
        },
        {
          "output_type": "display_data",
          "data": {
            "image/png": "[encoded data removed]",
            "text/plain": [
              "<Figure size 432x288 with 1 Axes>"
            ]
          },
          "metadata": {
            "tags": [],
            "needs_background": "light"
          }
        }
      ]
    },
    {
      "cell_type": "code",
      "metadata": {
        "colab": {
          "base_uri": "https://localhost:8080/",
          "height": 297
        },
        "id": "1nm081XwqkOj",
        "outputId": "f60d7dbe-f43c-42e7-8d8f-7df0509b505a"
      },
      "source": [
        "theborn[['년도', '내재가치']]"
      ],
      "execution_count": null,
      "outputs": [
        {
          "output_type": "execute_result",
          "data": {
            "text/html": [
              "<div>\n",
              "<style scoped>\n",
              "    .dataframe tbody tr th:only-of-type {\n",
              "        vertical-align: middle;\n",
              "    }\n",
              "\n",
              "    .dataframe tbody tr th {\n",
              "        vertical-align: top;\n",
              "    }\n",
              "\n",
              "    .dataframe thead th {\n",
              "        text-align: right;\n",
              "    }\n",
              "</style>\n",
              "<table border=\"1\" class=\"dataframe\">\n",
              "  <thead>\n",
              "    <tr style=\"text-align: right;\">\n",
              "      <th></th>\n",
              "      <th>년도</th>\n",
              "      <th>내재가치</th>\n",
              "    </tr>\n",
              "  </thead>\n",
              "  <tbody>\n",
              "    <tr>\n",
              "      <th>0</th>\n",
              "      <td>2012</td>\n",
              "      <td>9011502674.00</td>\n",
              "    </tr>\n",
              "    <tr>\n",
              "      <th>1</th>\n",
              "      <td>2013</td>\n",
              "      <td>12881986968.20</td>\n",
              "    </tr>\n",
              "    <tr>\n",
              "      <th>2</th>\n",
              "      <td>2014</td>\n",
              "      <td>17246975195.30</td>\n",
              "    </tr>\n",
              "    <tr>\n",
              "      <th>3</th>\n",
              "      <td>2015</td>\n",
              "      <td>23808507570.40</td>\n",
              "    </tr>\n",
              "    <tr>\n",
              "      <th>4</th>\n",
              "      <td>2016</td>\n",
              "      <td>42477565875.90</td>\n",
              "    </tr>\n",
              "    <tr>\n",
              "      <th>5</th>\n",
              "      <td>2017</td>\n",
              "      <td>48243313118.90</td>\n",
              "    </tr>\n",
              "    <tr>\n",
              "      <th>6</th>\n",
              "      <td>2018</td>\n",
              "      <td>54432801672.00</td>\n",
              "    </tr>\n",
              "    <tr>\n",
              "      <th>7</th>\n",
              "      <td>2019</td>\n",
              "      <td>62164958698.30</td>\n",
              "    </tr>\n",
              "  </tbody>\n",
              "</table>\n",
              "</div>"
            ],
            "text/plain": [
              "     년도           내재가치\n",
              "0  2012  9011502674.00\n",
              "1  2013 12881986968.20\n",
              "2  2014 17246975195.30\n",
              "3  2015 23808507570.40\n",
              "4  2016 42477565875.90\n",
              "5  2017 48243313118.90\n",
              "6  2018 54432801672.00\n",
              "7  2019 62164958698.30"
            ]
          },
          "metadata": {
            "tags": []
          },
          "execution_count": 84
        }
      ]
    },
    {
      "cell_type": "markdown",
      "metadata": {
        "id": "tHcbZqo4qM_k"
      },
      "source": [
        "## 분석결과\n",
        "  * 내재가치가 + 이고 상승 중인 것으로 보아서 모든 것을 잃게 되진 않을 것으로 보임\n",
        "  * 2015년도에 한번 급격하게 성장 이유\n",
        "    * '집밥 백선생' 프로그램(2014부터 방영) + 편의점(CU) 제휴 백종원 간편식 시리즈 상품 출시\n",
        "  * 2017년엔 '호텔더본'개관으로 호텔사업시작\n",
        "  * 위험성은 2020년에 코로나19 바이러스로 인해 외식업과 호텔사업 등 타격이 클 수 밖에 없는 산업이다 보니 아직 재무제표가 공개되지는 않았지만 코로나19 상황에 따라 크게 변동이 있을 것으로 보임\n"
      ]
    },
    {
      "cell_type": "markdown",
      "metadata": {
        "id": "Q_DKiYUpD7qn"
      },
      "source": [
        "### (참고) 재무분석 = 재무 비율 분석\n",
        " * 안정성 : 부채비율, 자기자본비율, 유동비율\n",
        " * 성장성 : 매출액증가율, 총자산증가율\n",
        " * 수익성 : 당기순이익율(매출액순이익률), 자기자본순이익률(ROE. Return of Earning)"
      ]
    },
    {
      "cell_type": "markdown",
      "metadata": {
        "id": "HR17_OR2slCA"
      },
      "source": [
        "# 4. 프리미엄(or 디스카운트) 평가\n",
        "  * 미래에 발생할 이익을 감안하여 프리미엄\n",
        "  * 미래에 발생할 손실을 감안하여 적절한 디스카운트\n",
        "  * (주의) 성장성, 수익성은 약하지만 대대적인 투자를 실시해서 해당 년도의 지출이 일시적으로 많이 발생한 경우도 있음.\n",
        "  * 재무분석(+재무비율분석)\n",
        "    * 비즈니스모델 이해\n",
        "    * 안정성 분석\n",
        "    * 수익성 분석\n",
        "    * 성장성 분석\n",
        "\n",
        "\n",
        "  * 프리미엄 평가 프로세스\n",
        "    * 재무분석\n",
        "    * 지속가능성 분석 : 매출원가, 고정비 점검\n",
        "    * 리스크(위험요인) 진단"
      ]
    },
    {
      "cell_type": "markdown",
      "metadata": {
        "id": "S2Wf2WqpEthH"
      },
      "source": [
        "## (1) 비즈니스모델 이해\n",
        "  * 주요 사업 내용 :"
      ]
    },
    {
      "cell_type": "markdown",
      "metadata": {
        "id": "Op4Hq2D8EzQw"
      },
      "source": [
        "## (2) 안정성 평가\n",
        "  * 부채비율 = 부채(타인자본) / 자본(자기자본)\n",
        "    * 100% 이하이면 우수한 것으로 평가\n",
        "  * 자기자본비율 = 자본(자기자본) / 자산\n",
        "    * 50% 이상이면 우수"
      ]
    },
    {
      "cell_type": "code",
      "metadata": {
        "colab": {
          "base_uri": "https://localhost:8080/"
        },
        "id": "Kfjvd8_MpwVo",
        "outputId": "346431a7-ce10-4a78-ac6d-d0a50735bdac"
      },
      "source": [
        "# 부채비율\n",
        "\n",
        "theborn['부채비율'] = theborn['부채총계'].div(theborn['자본총계'])\n",
        "theborn['부채비율']"
      ],
      "execution_count": null,
      "outputs": [
        {
          "output_type": "execute_result",
          "data": {
            "text/plain": [
              "0   1.72\n",
              "1   1.23\n",
              "2   1.51\n",
              "3   1.83\n",
              "4   0.62\n",
              "5   0.71\n",
              "6   0.59\n",
              "7   0.70\n",
              "Name: 부채비율, dtype: float64"
            ]
          },
          "metadata": {
            "tags": []
          },
          "execution_count": 35
        }
      ]
    },
    {
      "cell_type": "code",
      "metadata": {
        "colab": {
          "base_uri": "https://localhost:8080/",
          "height": 297
        },
        "id": "zdY4auDAsjlD",
        "outputId": "476d82c0-9553-42c0-c3b2-545ce17d851b"
      },
      "source": [
        "theborn[['년도','부채비율']]"
      ],
      "execution_count": null,
      "outputs": [
        {
          "output_type": "execute_result",
          "data": {
            "text/html": [
              "<div>\n",
              "<style scoped>\n",
              "    .dataframe tbody tr th:only-of-type {\n",
              "        vertical-align: middle;\n",
              "    }\n",
              "\n",
              "    .dataframe tbody tr th {\n",
              "        vertical-align: top;\n",
              "    }\n",
              "\n",
              "    .dataframe thead th {\n",
              "        text-align: right;\n",
              "    }\n",
              "</style>\n",
              "<table border=\"1\" class=\"dataframe\">\n",
              "  <thead>\n",
              "    <tr style=\"text-align: right;\">\n",
              "      <th></th>\n",
              "      <th>년도</th>\n",
              "      <th>부채비율</th>\n",
              "    </tr>\n",
              "  </thead>\n",
              "  <tbody>\n",
              "    <tr>\n",
              "      <th>0</th>\n",
              "      <td>2012</td>\n",
              "      <td>1.72</td>\n",
              "    </tr>\n",
              "    <tr>\n",
              "      <th>1</th>\n",
              "      <td>2013</td>\n",
              "      <td>1.23</td>\n",
              "    </tr>\n",
              "    <tr>\n",
              "      <th>2</th>\n",
              "      <td>2014</td>\n",
              "      <td>1.51</td>\n",
              "    </tr>\n",
              "    <tr>\n",
              "      <th>3</th>\n",
              "      <td>2015</td>\n",
              "      <td>1.83</td>\n",
              "    </tr>\n",
              "    <tr>\n",
              "      <th>4</th>\n",
              "      <td>2016</td>\n",
              "      <td>0.62</td>\n",
              "    </tr>\n",
              "    <tr>\n",
              "      <th>5</th>\n",
              "      <td>2017</td>\n",
              "      <td>0.71</td>\n",
              "    </tr>\n",
              "    <tr>\n",
              "      <th>6</th>\n",
              "      <td>2018</td>\n",
              "      <td>0.59</td>\n",
              "    </tr>\n",
              "    <tr>\n",
              "      <th>7</th>\n",
              "      <td>2019</td>\n",
              "      <td>0.70</td>\n",
              "    </tr>\n",
              "  </tbody>\n",
              "</table>\n",
              "</div>"
            ],
            "text/plain": [
              "     년도  부채비율\n",
              "0  2012  1.72\n",
              "1  2013  1.23\n",
              "2  2014  1.51\n",
              "3  2015  1.83\n",
              "4  2016  0.62\n",
              "5  2017  0.71\n",
              "6  2018  0.59\n",
              "7  2019  0.70"
            ]
          },
          "metadata": {
            "tags": []
          },
          "execution_count": 70
        }
      ]
    },
    {
      "cell_type": "code",
      "metadata": {
        "colab": {
          "base_uri": "https://localhost:8080/",
          "height": 297
        },
        "id": "SUyIswW7FoE8",
        "outputId": "514c5873-3abc-4d2e-bd42-ed189238d233"
      },
      "source": [
        "sns.barplot(data = theborn, x='년도', y='부채비율')"
      ],
      "execution_count": null,
      "outputs": [
        {
          "output_type": "execute_result",
          "data": {
            "text/plain": [
              "<matplotlib.axes._subplots.AxesSubplot at 0x7f98b77781d0>"
            ]
          },
          "metadata": {
            "tags": []
          },
          "execution_count": 37
        },
        {
          "output_type": "display_data",
          "data": {
            "image/png": "[encoded data removed]",
            "text/plain": [
              "<Figure size 432x288 with 1 Axes>"
            ]
          },
          "metadata": {
            "tags": [],
            "needs_background": "light"
          }
        }
      ]
    },
    {
      "cell_type": "code",
      "metadata": {
        "colab": {
          "base_uri": "https://localhost:8080/"
        },
        "id": "S2Rra26mFTrU",
        "outputId": "ca0f9422-d559-4f0f-a6e8-96cb06224839"
      },
      "source": [
        "# 자기자본비율\n",
        "\n",
        "theborn['자기자본비율'] = theborn['자본총계'].div(theborn['자산총계'])\n",
        "theborn['자기자본비율']"
      ],
      "execution_count": null,
      "outputs": [
        {
          "output_type": "execute_result",
          "data": {
            "text/plain": [
              "0   0.37\n",
              "1   0.45\n",
              "2   0.40\n",
              "3   0.35\n",
              "4   0.62\n",
              "5   0.58\n",
              "6   0.63\n",
              "7   0.59\n",
              "Name: 자기자본비율, dtype: float64"
            ]
          },
          "metadata": {
            "tags": []
          },
          "execution_count": 36
        }
      ]
    },
    {
      "cell_type": "code",
      "metadata": {
        "colab": {
          "base_uri": "https://localhost:8080/",
          "height": 297
        },
        "id": "P89qTiYPtgEr",
        "outputId": "c85e5737-52dd-47e6-d69e-c75a318e0ddd"
      },
      "source": [
        "theborn[['년도','자기자본비율']]"
      ],
      "execution_count": null,
      "outputs": [
        {
          "output_type": "execute_result",
          "data": {
            "text/html": [
              "<div>\n",
              "<style scoped>\n",
              "    .dataframe tbody tr th:only-of-type {\n",
              "        vertical-align: middle;\n",
              "    }\n",
              "\n",
              "    .dataframe tbody tr th {\n",
              "        vertical-align: top;\n",
              "    }\n",
              "\n",
              "    .dataframe thead th {\n",
              "        text-align: right;\n",
              "    }\n",
              "</style>\n",
              "<table border=\"1\" class=\"dataframe\">\n",
              "  <thead>\n",
              "    <tr style=\"text-align: right;\">\n",
              "      <th></th>\n",
              "      <th>년도</th>\n",
              "      <th>자기자본비율</th>\n",
              "    </tr>\n",
              "  </thead>\n",
              "  <tbody>\n",
              "    <tr>\n",
              "      <th>0</th>\n",
              "      <td>2012</td>\n",
              "      <td>0.37</td>\n",
              "    </tr>\n",
              "    <tr>\n",
              "      <th>1</th>\n",
              "      <td>2013</td>\n",
              "      <td>0.45</td>\n",
              "    </tr>\n",
              "    <tr>\n",
              "      <th>2</th>\n",
              "      <td>2014</td>\n",
              "      <td>0.40</td>\n",
              "    </tr>\n",
              "    <tr>\n",
              "      <th>3</th>\n",
              "      <td>2015</td>\n",
              "      <td>0.35</td>\n",
              "    </tr>\n",
              "    <tr>\n",
              "      <th>4</th>\n",
              "      <td>2016</td>\n",
              "      <td>0.62</td>\n",
              "    </tr>\n",
              "    <tr>\n",
              "      <th>5</th>\n",
              "      <td>2017</td>\n",
              "      <td>0.58</td>\n",
              "    </tr>\n",
              "    <tr>\n",
              "      <th>6</th>\n",
              "      <td>2018</td>\n",
              "      <td>0.63</td>\n",
              "    </tr>\n",
              "    <tr>\n",
              "      <th>7</th>\n",
              "      <td>2019</td>\n",
              "      <td>0.59</td>\n",
              "    </tr>\n",
              "  </tbody>\n",
              "</table>\n",
              "</div>"
            ],
            "text/plain": [
              "     년도  자기자본비율\n",
              "0  2012    0.37\n",
              "1  2013    0.45\n",
              "2  2014    0.40\n",
              "3  2015    0.35\n",
              "4  2016    0.62\n",
              "5  2017    0.58\n",
              "6  2018    0.63\n",
              "7  2019    0.59"
            ]
          },
          "metadata": {
            "tags": []
          },
          "execution_count": 71
        }
      ]
    },
    {
      "cell_type": "code",
      "metadata": {
        "colab": {
          "base_uri": "https://localhost:8080/",
          "height": 297
        },
        "id": "EbhDNJNTFlf8",
        "outputId": "f2cf6c4d-a723-49c8-f38b-7f0a6d0d0d4e"
      },
      "source": [
        "sns.barplot(data = theborn, x='년도', y='자기자본비율')"
      ],
      "execution_count": null,
      "outputs": [
        {
          "output_type": "execute_result",
          "data": {
            "text/plain": [
              "<matplotlib.axes._subplots.AxesSubplot at 0x7f98b785b320>"
            ]
          },
          "metadata": {
            "tags": []
          },
          "execution_count": 38
        },
        {
          "output_type": "display_data",
          "data": {
            "image/png": "[encoded data removed]",
            "text/plain": [
              "<Figure size 432x288 with 1 Axes>"
            ]
          },
          "metadata": {
            "tags": [],
            "needs_background": "light"
          }
        }
      ]
    },
    {
      "cell_type": "markdown",
      "metadata": {
        "id": "xYUQ0XJ7F8Sq"
      },
      "source": [
        "### 분석결과\n",
        "  * 대체적으로 안정적인 편인것으로 보인다."
      ]
    },
    {
      "cell_type": "markdown",
      "metadata": {
        "id": "_R3E1TunGGOy"
      },
      "source": [
        "## (3) 성장성 평가\n",
        " * 매출액증가율 = (이번년도 매출액 - 전년도 매출액) / 전년도 매출액\n",
        "  * 높을수록 \n",
        "  \n",
        "* 총자산증가율 = (이번년도 총자산 - 전년도 총자산_ / 전년도 총자산\n",
        " * 높을수록"
      ]
    },
    {
      "cell_type": "code",
      "metadata": {
        "colab": {
          "base_uri": "https://localhost:8080/"
        },
        "id": "e3FwAWSbF0ql",
        "outputId": "41024481-186d-4182-9e80-360761c54c00"
      },
      "source": [
        "# 매출액증가율\n",
        "\n",
        "theborn['매출액증가율'] = theborn['매출액'].pct_change()\n",
        "theborn['매출액증가율']"
      ],
      "execution_count": null,
      "outputs": [
        {
          "output_type": "execute_result",
          "data": {
            "text/plain": [
              "0     nan\n",
              "1    0.13\n",
              "2    0.20\n",
              "3    0.34\n",
              "4    0.41\n",
              "5   -0.00\n",
              "6   -0.41\n",
              "7    0.17\n",
              "Name: 매출액증가율, dtype: float64"
            ]
          },
          "metadata": {
            "tags": []
          },
          "execution_count": 41
        }
      ]
    },
    {
      "cell_type": "code",
      "metadata": {
        "colab": {
          "base_uri": "https://localhost:8080/",
          "height": 300
        },
        "id": "t51UqKLuGv1P",
        "outputId": "848b8252-ffa2-4f25-d09b-2a657855b21f"
      },
      "source": [
        "plt.ticklabel_format(style = \"plain\")\n",
        "sns.pointplot(data = theborn, x='년도', y='매출액')"
      ],
      "execution_count": null,
      "outputs": [
        {
          "output_type": "execute_result",
          "data": {
            "text/plain": [
              "<matplotlib.axes._subplots.AxesSubplot at 0x7f98b7407a58>"
            ]
          },
          "metadata": {
            "tags": []
          },
          "execution_count": 44
        },
        {
          "output_type": "display_data",
          "data": {
            "image/png": "[encoded data removed]",
            "text/plain": [
              "<Figure size 432x288 with 1 Axes>"
            ]
          },
          "metadata": {
            "tags": [],
            "needs_background": "light"
          }
        }
      ]
    },
    {
      "cell_type": "code",
      "metadata": {
        "colab": {
          "base_uri": "https://localhost:8080/",
          "height": 297
        },
        "id": "iQNLcqudu87Q",
        "outputId": "a068f6a4-c85d-4068-e144-b7173463a890"
      },
      "source": [
        "theborn[['년도', '매출액']]"
      ],
      "execution_count": null,
      "outputs": [
        {
          "output_type": "execute_result",
          "data": {
            "text/html": [
              "<div>\n",
              "<style scoped>\n",
              "    .dataframe tbody tr th:only-of-type {\n",
              "        vertical-align: middle;\n",
              "    }\n",
              "\n",
              "    .dataframe tbody tr th {\n",
              "        vertical-align: top;\n",
              "    }\n",
              "\n",
              "    .dataframe thead th {\n",
              "        text-align: right;\n",
              "    }\n",
              "</style>\n",
              "<table border=\"1\" class=\"dataframe\">\n",
              "  <thead>\n",
              "    <tr style=\"text-align: right;\">\n",
              "      <th></th>\n",
              "      <th>년도</th>\n",
              "      <th>매출액</th>\n",
              "    </tr>\n",
              "  </thead>\n",
              "  <tbody>\n",
              "    <tr>\n",
              "      <th>0</th>\n",
              "      <td>2012</td>\n",
              "      <td>68323290324</td>\n",
              "    </tr>\n",
              "    <tr>\n",
              "      <th>1</th>\n",
              "      <td>2013</td>\n",
              "      <td>77502400639</td>\n",
              "    </tr>\n",
              "    <tr>\n",
              "      <th>2</th>\n",
              "      <td>2014</td>\n",
              "      <td>92742228918</td>\n",
              "    </tr>\n",
              "    <tr>\n",
              "      <th>3</th>\n",
              "      <td>2015</td>\n",
              "      <td>123861782375</td>\n",
              "    </tr>\n",
              "    <tr>\n",
              "      <th>4</th>\n",
              "      <td>2016</td>\n",
              "      <td>174871404102</td>\n",
              "    </tr>\n",
              "    <tr>\n",
              "      <th>5</th>\n",
              "      <td>2017</td>\n",
              "      <td>174084567921</td>\n",
              "    </tr>\n",
              "    <tr>\n",
              "      <th>6</th>\n",
              "      <td>2018</td>\n",
              "      <td>102466002311</td>\n",
              "    </tr>\n",
              "    <tr>\n",
              "      <th>7</th>\n",
              "      <td>2019</td>\n",
              "      <td>120090805080</td>\n",
              "    </tr>\n",
              "  </tbody>\n",
              "</table>\n",
              "</div>"
            ],
            "text/plain": [
              "     년도           매출액\n",
              "0  2012   68323290324\n",
              "1  2013   77502400639\n",
              "2  2014   92742228918\n",
              "3  2015  123861782375\n",
              "4  2016  174871404102\n",
              "5  2017  174084567921\n",
              "6  2018  102466002311\n",
              "7  2019  120090805080"
            ]
          },
          "metadata": {
            "tags": []
          },
          "execution_count": 73
        }
      ]
    },
    {
      "cell_type": "code",
      "metadata": {
        "colab": {
          "base_uri": "https://localhost:8080/",
          "height": 297
        },
        "id": "sLL6DYPAuGjK",
        "outputId": "62ec6032-0baf-4010-86a1-f6e8bdcd85e7"
      },
      "source": [
        "theborn[['년도', '매출액증가율']]"
      ],
      "execution_count": null,
      "outputs": [
        {
          "output_type": "execute_result",
          "data": {
            "text/html": [
              "<div>\n",
              "<style scoped>\n",
              "    .dataframe tbody tr th:only-of-type {\n",
              "        vertical-align: middle;\n",
              "    }\n",
              "\n",
              "    .dataframe tbody tr th {\n",
              "        vertical-align: top;\n",
              "    }\n",
              "\n",
              "    .dataframe thead th {\n",
              "        text-align: right;\n",
              "    }\n",
              "</style>\n",
              "<table border=\"1\" class=\"dataframe\">\n",
              "  <thead>\n",
              "    <tr style=\"text-align: right;\">\n",
              "      <th></th>\n",
              "      <th>년도</th>\n",
              "      <th>매출액증가율</th>\n",
              "    </tr>\n",
              "  </thead>\n",
              "  <tbody>\n",
              "    <tr>\n",
              "      <th>0</th>\n",
              "      <td>2012</td>\n",
              "      <td>nan</td>\n",
              "    </tr>\n",
              "    <tr>\n",
              "      <th>1</th>\n",
              "      <td>2013</td>\n",
              "      <td>0.13</td>\n",
              "    </tr>\n",
              "    <tr>\n",
              "      <th>2</th>\n",
              "      <td>2014</td>\n",
              "      <td>0.20</td>\n",
              "    </tr>\n",
              "    <tr>\n",
              "      <th>3</th>\n",
              "      <td>2015</td>\n",
              "      <td>0.34</td>\n",
              "    </tr>\n",
              "    <tr>\n",
              "      <th>4</th>\n",
              "      <td>2016</td>\n",
              "      <td>0.41</td>\n",
              "    </tr>\n",
              "    <tr>\n",
              "      <th>5</th>\n",
              "      <td>2017</td>\n",
              "      <td>-0.00</td>\n",
              "    </tr>\n",
              "    <tr>\n",
              "      <th>6</th>\n",
              "      <td>2018</td>\n",
              "      <td>-0.41</td>\n",
              "    </tr>\n",
              "    <tr>\n",
              "      <th>7</th>\n",
              "      <td>2019</td>\n",
              "      <td>0.17</td>\n",
              "    </tr>\n",
              "  </tbody>\n",
              "</table>\n",
              "</div>"
            ],
            "text/plain": [
              "     년도  매출액증가율\n",
              "0  2012     nan\n",
              "1  2013    0.13\n",
              "2  2014    0.20\n",
              "3  2015    0.34\n",
              "4  2016    0.41\n",
              "5  2017   -0.00\n",
              "6  2018   -0.41\n",
              "7  2019    0.17"
            ]
          },
          "metadata": {
            "tags": []
          },
          "execution_count": 72
        }
      ]
    },
    {
      "cell_type": "code",
      "metadata": {
        "colab": {
          "base_uri": "https://localhost:8080/",
          "height": 351
        },
        "id": "qnIi0yMAG5_M",
        "outputId": "66fa0b08-5c62-4cdf-c0f2-38e64185877a"
      },
      "source": [
        "sns.barplot(data = theborn, x='년도', y='매출액증가율')"
      ],
      "execution_count": null,
      "outputs": [
        {
          "output_type": "execute_result",
          "data": {
            "text/plain": [
              "<matplotlib.axes._subplots.AxesSubplot at 0x7f98b74a52b0>"
            ]
          },
          "metadata": {
            "tags": []
          },
          "execution_count": 43
        },
        {
          "output_type": "stream",
          "text": [
            "/usr/local/lib/python3.6/dist-packages/matplotlib/backends/backend_agg.py:214: RuntimeWarning: Glyph 8722 missing from current font.\n",
            "  font.set_text(s, 0.0, flags=flags)\n",
            "/usr/local/lib/python3.6/dist-packages/matplotlib/backends/backend_agg.py:183: RuntimeWarning: Glyph 8722 missing from current font.\n",
            "  font.set_text(s, 0, flags=flags)\n"
          ],
          "name": "stderr"
        },
        {
          "output_type": "display_data",
          "data": {
            "image/png": "[encoded data removed]",
            "text/plain": [
              "<Figure size 432x288 with 1 Axes>"
            ]
          },
          "metadata": {
            "tags": [],
            "needs_background": "light"
          }
        }
      ]
    },
    {
      "cell_type": "code",
      "metadata": {
        "colab": {
          "base_uri": "https://localhost:8080/"
        },
        "id": "RoUlYpcdHECI",
        "outputId": "49279fbd-102b-43fa-ec15-d87e726652a7"
      },
      "source": [
        "# 총자산증가율\n",
        "theborn['총자산증가율'] = theborn['자산총계'].pct_change()\n",
        "theborn['총자산증가율']"
      ],
      "execution_count": null,
      "outputs": [
        {
          "output_type": "execute_result",
          "data": {
            "text/plain": [
              "0    nan\n",
              "1   0.37\n",
              "2   0.45\n",
              "3   0.44\n",
              "4   0.01\n",
              "5   0.19\n",
              "6   0.06\n",
              "7   0.21\n",
              "Name: 총자산증가율, dtype: float64"
            ]
          },
          "metadata": {
            "tags": []
          },
          "execution_count": 45
        }
      ]
    },
    {
      "cell_type": "code",
      "metadata": {
        "colab": {
          "base_uri": "https://localhost:8080/",
          "height": 297
        },
        "id": "NbERpzJtwFnS",
        "outputId": "52084308-1498-493f-cd37-dcc1a8de2152"
      },
      "source": [
        "theborn[['년도', '총자산증가율']]"
      ],
      "execution_count": null,
      "outputs": [
        {
          "output_type": "execute_result",
          "data": {
            "text/html": [
              "<div>\n",
              "<style scoped>\n",
              "    .dataframe tbody tr th:only-of-type {\n",
              "        vertical-align: middle;\n",
              "    }\n",
              "\n",
              "    .dataframe tbody tr th {\n",
              "        vertical-align: top;\n",
              "    }\n",
              "\n",
              "    .dataframe thead th {\n",
              "        text-align: right;\n",
              "    }\n",
              "</style>\n",
              "<table border=\"1\" class=\"dataframe\">\n",
              "  <thead>\n",
              "    <tr style=\"text-align: right;\">\n",
              "      <th></th>\n",
              "      <th>년도</th>\n",
              "      <th>총자산증가율</th>\n",
              "    </tr>\n",
              "  </thead>\n",
              "  <tbody>\n",
              "    <tr>\n",
              "      <th>0</th>\n",
              "      <td>2012</td>\n",
              "      <td>nan</td>\n",
              "    </tr>\n",
              "    <tr>\n",
              "      <th>1</th>\n",
              "      <td>2013</td>\n",
              "      <td>0.37</td>\n",
              "    </tr>\n",
              "    <tr>\n",
              "      <th>2</th>\n",
              "      <td>2014</td>\n",
              "      <td>0.45</td>\n",
              "    </tr>\n",
              "    <tr>\n",
              "      <th>3</th>\n",
              "      <td>2015</td>\n",
              "      <td>0.44</td>\n",
              "    </tr>\n",
              "    <tr>\n",
              "      <th>4</th>\n",
              "      <td>2016</td>\n",
              "      <td>0.01</td>\n",
              "    </tr>\n",
              "    <tr>\n",
              "      <th>5</th>\n",
              "      <td>2017</td>\n",
              "      <td>0.19</td>\n",
              "    </tr>\n",
              "    <tr>\n",
              "      <th>6</th>\n",
              "      <td>2018</td>\n",
              "      <td>0.06</td>\n",
              "    </tr>\n",
              "    <tr>\n",
              "      <th>7</th>\n",
              "      <td>2019</td>\n",
              "      <td>0.21</td>\n",
              "    </tr>\n",
              "  </tbody>\n",
              "</table>\n",
              "</div>"
            ],
            "text/plain": [
              "     년도  총자산증가율\n",
              "0  2012     nan\n",
              "1  2013    0.37\n",
              "2  2014    0.45\n",
              "3  2015    0.44\n",
              "4  2016    0.01\n",
              "5  2017    0.19\n",
              "6  2018    0.06\n",
              "7  2019    0.21"
            ]
          },
          "metadata": {
            "tags": []
          },
          "execution_count": 74
        }
      ]
    },
    {
      "cell_type": "code",
      "metadata": {
        "colab": {
          "base_uri": "https://localhost:8080/",
          "height": 297
        },
        "id": "t3SAe1AJHXYW",
        "outputId": "a95218d7-57ef-4004-f7d5-63257fefee83"
      },
      "source": [
        "sns.barplot(data = theborn, x='년도', y='총자산증가율')"
      ],
      "execution_count": null,
      "outputs": [
        {
          "output_type": "execute_result",
          "data": {
            "text/plain": [
              "<matplotlib.axes._subplots.AxesSubplot at 0x7f98b73a35c0>"
            ]
          },
          "metadata": {
            "tags": []
          },
          "execution_count": 46
        },
        {
          "output_type": "display_data",
          "data": {
            "image/png": "[encoded data removed]",
            "text/plain": [
              "<Figure size 432x288 with 1 Axes>"
            ]
          },
          "metadata": {
            "tags": [],
            "needs_background": "light"
          }
        }
      ]
    },
    {
      "cell_type": "code",
      "metadata": {
        "colab": {
          "base_uri": "https://localhost:8080/",
          "height": 307
        },
        "id": "vJwPMhpbHehY",
        "outputId": "57732cf8-12cd-4e51-a1b5-0bbfc7b88c8a"
      },
      "source": [
        "sns.pointplot(data=theborn, x='년도', y='자산총계')"
      ],
      "execution_count": null,
      "outputs": [
        {
          "output_type": "execute_result",
          "data": {
            "text/plain": [
              "<matplotlib.axes._subplots.AxesSubplot at 0x7f98b72e87b8>"
            ]
          },
          "metadata": {
            "tags": []
          },
          "execution_count": 49
        },
        {
          "output_type": "display_data",
          "data": {
            "image/png": "[encoded data removed]",
            "text/plain": [
              "<Figure size 432x288 with 1 Axes>"
            ]
          },
          "metadata": {
            "tags": [],
            "needs_background": "light"
          }
        }
      ]
    },
    {
      "cell_type": "markdown",
      "metadata": {
        "id": "5l-aOYz2H4Va"
      },
      "source": [
        "### 분석결과\n",
        "  * 꾸준히 증가하다가 2018년에 매출액이 급격히 줄었다. 하지만 자산 총계는 오히려 늘어난것을 알 수 있다."
      ]
    },
    {
      "cell_type": "markdown",
      "metadata": {
        "id": "jQrp59SyIRKz"
      },
      "source": [
        "## (4) 수익성 평가\n",
        "  * 당기순이익율(매출액순이익율) = 당기순이익 / 매출액\n",
        "    * 높을수록 좋긴한데 너무 높으면 이상\n",
        "  \n",
        "  * 자기자본수익율(ROE) = 올해 당기순이익 / 올해와 전년도의 자기자본 평균\n",
        "    * 자기자본(평균) = (올해 자본총계 + 전년도 자본총계)/2\n",
        "    * 높을수록 좋음, 일정 퍼센트를 꾸준히 유지하는 것도 매우 중요"
      ]
    },
    {
      "cell_type": "code",
      "metadata": {
        "colab": {
          "base_uri": "https://localhost:8080/"
        },
        "id": "iu7IUaVKHmRZ",
        "outputId": "9650fe6d-41a2-489f-bc34-cd9f2af9357f"
      },
      "source": [
        "# 당기순이익율\n",
        "\n",
        "theborn['당기순이익율'] = theborn['당기순이익'].div(theborn['매출액'])\n",
        "theborn['당기순이익율']"
      ],
      "execution_count": null,
      "outputs": [
        {
          "output_type": "execute_result",
          "data": {
            "text/plain": [
              "0   0.05\n",
              "1   0.04\n",
              "2   0.05\n",
              "3   0.06\n",
              "4   0.11\n",
              "5   0.03\n",
              "6   0.06\n",
              "7   0.07\n",
              "Name: 당기순이익율, dtype: float64"
            ]
          },
          "metadata": {
            "tags": []
          },
          "execution_count": 51
        }
      ]
    },
    {
      "cell_type": "code",
      "metadata": {
        "colab": {
          "base_uri": "https://localhost:8080/",
          "height": 297
        },
        "id": "aUebk7VzxIYB",
        "outputId": "e55458b1-988e-45db-e1bf-80142303076c"
      },
      "source": [
        "theborn[['년도', '당기순이익율']]"
      ],
      "execution_count": null,
      "outputs": [
        {
          "output_type": "execute_result",
          "data": {
            "text/html": [
              "<div>\n",
              "<style scoped>\n",
              "    .dataframe tbody tr th:only-of-type {\n",
              "        vertical-align: middle;\n",
              "    }\n",
              "\n",
              "    .dataframe tbody tr th {\n",
              "        vertical-align: top;\n",
              "    }\n",
              "\n",
              "    .dataframe thead th {\n",
              "        text-align: right;\n",
              "    }\n",
              "</style>\n",
              "<table border=\"1\" class=\"dataframe\">\n",
              "  <thead>\n",
              "    <tr style=\"text-align: right;\">\n",
              "      <th></th>\n",
              "      <th>년도</th>\n",
              "      <th>당기순이익율</th>\n",
              "    </tr>\n",
              "  </thead>\n",
              "  <tbody>\n",
              "    <tr>\n",
              "      <th>0</th>\n",
              "      <td>2012</td>\n",
              "      <td>0.05</td>\n",
              "    </tr>\n",
              "    <tr>\n",
              "      <th>1</th>\n",
              "      <td>2013</td>\n",
              "      <td>0.04</td>\n",
              "    </tr>\n",
              "    <tr>\n",
              "      <th>2</th>\n",
              "      <td>2014</td>\n",
              "      <td>0.05</td>\n",
              "    </tr>\n",
              "    <tr>\n",
              "      <th>3</th>\n",
              "      <td>2015</td>\n",
              "      <td>0.06</td>\n",
              "    </tr>\n",
              "    <tr>\n",
              "      <th>4</th>\n",
              "      <td>2016</td>\n",
              "      <td>0.11</td>\n",
              "    </tr>\n",
              "    <tr>\n",
              "      <th>5</th>\n",
              "      <td>2017</td>\n",
              "      <td>0.03</td>\n",
              "    </tr>\n",
              "    <tr>\n",
              "      <th>6</th>\n",
              "      <td>2018</td>\n",
              "      <td>0.06</td>\n",
              "    </tr>\n",
              "    <tr>\n",
              "      <th>7</th>\n",
              "      <td>2019</td>\n",
              "      <td>0.07</td>\n",
              "    </tr>\n",
              "  </tbody>\n",
              "</table>\n",
              "</div>"
            ],
            "text/plain": [
              "     년도  당기순이익율\n",
              "0  2012    0.05\n",
              "1  2013    0.04\n",
              "2  2014    0.05\n",
              "3  2015    0.06\n",
              "4  2016    0.11\n",
              "5  2017    0.03\n",
              "6  2018    0.06\n",
              "7  2019    0.07"
            ]
          },
          "metadata": {
            "tags": []
          },
          "execution_count": 75
        }
      ]
    },
    {
      "cell_type": "code",
      "metadata": {
        "colab": {
          "base_uri": "https://localhost:8080/",
          "height": 297
        },
        "id": "jqQrWVpsJBDT",
        "outputId": "6624c9c2-163a-4157-ea67-2c41371f90e8"
      },
      "source": [
        "sns.barplot(data=theborn, x='년도', y='당기순이익율')"
      ],
      "execution_count": null,
      "outputs": [
        {
          "output_type": "execute_result",
          "data": {
            "text/plain": [
              "<matplotlib.axes._subplots.AxesSubplot at 0x7f98b71e7518>"
            ]
          },
          "metadata": {
            "tags": []
          },
          "execution_count": 52
        },
        {
          "output_type": "display_data",
          "data": {
            "image/png": "[encoded data removed]",
            "text/plain": [
              "<Figure size 432x288 with 1 Axes>"
            ]
          },
          "metadata": {
            "tags": [],
            "needs_background": "light"
          }
        }
      ]
    },
    {
      "cell_type": "code",
      "metadata": {
        "id": "SGQ8pAqvI2s-"
      },
      "source": [
        "theborn['자본총계_shift'] = theborn['자본총계'].shift(1)\n",
        "theborn['자기자본(평균)'] = theborn[['자본총계', '자본총계_shift']].mean(1)"
      ],
      "execution_count": null,
      "outputs": []
    },
    {
      "cell_type": "code",
      "metadata": {
        "colab": {
          "base_uri": "https://localhost:8080/"
        },
        "id": "KC6jod9dJthJ",
        "outputId": "fd4b1bf8-14df-4c44-9ce9-37712f92f5e5"
      },
      "source": [
        "theborn['자기자본(평균)']"
      ],
      "execution_count": null,
      "outputs": [
        {
          "output_type": "execute_result",
          "data": {
            "text/plain": [
              "0    9109219052.00\n",
              "1   12165996583.00\n",
              "2   17464097616.00\n",
              "3   22370607349.00\n",
              "4   34456567209.50\n",
              "5   46768241715.00\n",
              "6   52961727988.50\n",
              "7   60281563815.50\n",
              "Name: 자기자본(평균), dtype: float64"
            ]
          },
          "metadata": {
            "tags": []
          },
          "execution_count": 54
        }
      ]
    },
    {
      "cell_type": "code",
      "metadata": {
        "colab": {
          "base_uri": "https://localhost:8080/"
        },
        "id": "btfxMK_VJwm8",
        "outputId": "8b6f1a01-70b6-43e0-b22e-d50ad09572da"
      },
      "source": [
        "# 자기자본수익율\n",
        "\n",
        "theborn['자기자본수익율'] = theborn['당기순이익'].div(theborn['자기자본(평균)'])\n",
        "theborn['자기자본수익율']"
      ],
      "execution_count": null,
      "outputs": [
        {
          "output_type": "execute_result",
          "data": {
            "text/plain": [
              "0   0.39\n",
              "1   0.24\n",
              "2   0.25\n",
              "3   0.31\n",
              "4   0.56\n",
              "5   0.13\n",
              "6   0.12\n",
              "7   0.13\n",
              "Name: 자기자본수익율, dtype: float64"
            ]
          },
          "metadata": {
            "tags": []
          },
          "execution_count": 55
        }
      ]
    },
    {
      "cell_type": "code",
      "metadata": {
        "colab": {
          "base_uri": "https://localhost:8080/",
          "height": 297
        },
        "id": "le4rMQMox1ce",
        "outputId": "d9853727-62e3-4222-cf44-0d7f98838de3"
      },
      "source": [
        "theborn[['년도', '자기자본수익율']]"
      ],
      "execution_count": null,
      "outputs": [
        {
          "output_type": "execute_result",
          "data": {
            "text/html": [
              "<div>\n",
              "<style scoped>\n",
              "    .dataframe tbody tr th:only-of-type {\n",
              "        vertical-align: middle;\n",
              "    }\n",
              "\n",
              "    .dataframe tbody tr th {\n",
              "        vertical-align: top;\n",
              "    }\n",
              "\n",
              "    .dataframe thead th {\n",
              "        text-align: right;\n",
              "    }\n",
              "</style>\n",
              "<table border=\"1\" class=\"dataframe\">\n",
              "  <thead>\n",
              "    <tr style=\"text-align: right;\">\n",
              "      <th></th>\n",
              "      <th>년도</th>\n",
              "      <th>자기자본수익율</th>\n",
              "    </tr>\n",
              "  </thead>\n",
              "  <tbody>\n",
              "    <tr>\n",
              "      <th>0</th>\n",
              "      <td>2012</td>\n",
              "      <td>0.39</td>\n",
              "    </tr>\n",
              "    <tr>\n",
              "      <th>1</th>\n",
              "      <td>2013</td>\n",
              "      <td>0.24</td>\n",
              "    </tr>\n",
              "    <tr>\n",
              "      <th>2</th>\n",
              "      <td>2014</td>\n",
              "      <td>0.25</td>\n",
              "    </tr>\n",
              "    <tr>\n",
              "      <th>3</th>\n",
              "      <td>2015</td>\n",
              "      <td>0.31</td>\n",
              "    </tr>\n",
              "    <tr>\n",
              "      <th>4</th>\n",
              "      <td>2016</td>\n",
              "      <td>0.56</td>\n",
              "    </tr>\n",
              "    <tr>\n",
              "      <th>5</th>\n",
              "      <td>2017</td>\n",
              "      <td>0.13</td>\n",
              "    </tr>\n",
              "    <tr>\n",
              "      <th>6</th>\n",
              "      <td>2018</td>\n",
              "      <td>0.12</td>\n",
              "    </tr>\n",
              "    <tr>\n",
              "      <th>7</th>\n",
              "      <td>2019</td>\n",
              "      <td>0.13</td>\n",
              "    </tr>\n",
              "  </tbody>\n",
              "</table>\n",
              "</div>"
            ],
            "text/plain": [
              "     년도  자기자본수익율\n",
              "0  2012     0.39\n",
              "1  2013     0.24\n",
              "2  2014     0.25\n",
              "3  2015     0.31\n",
              "4  2016     0.56\n",
              "5  2017     0.13\n",
              "6  2018     0.12\n",
              "7  2019     0.13"
            ]
          },
          "metadata": {
            "tags": []
          },
          "execution_count": 76
        }
      ]
    },
    {
      "cell_type": "code",
      "metadata": {
        "colab": {
          "base_uri": "https://localhost:8080/",
          "height": 297
        },
        "id": "D_uIYe-MKAlH",
        "outputId": "25c02665-7875-4f41-eca1-e479058ff2a1"
      },
      "source": [
        "sns.barplot(data=theborn, x='년도', y='자기자본수익율')"
      ],
      "execution_count": null,
      "outputs": [
        {
          "output_type": "execute_result",
          "data": {
            "text/plain": [
              "<matplotlib.axes._subplots.AxesSubplot at 0x7f98b76e34a8>"
            ]
          },
          "metadata": {
            "tags": []
          },
          "execution_count": 56
        },
        {
          "output_type": "display_data",
          "data": {
            "image/png": "[encoded data removed]",
            "text/plain": [
              "<Figure size 432x288 with 1 Axes>"
            ]
          },
          "metadata": {
            "tags": [],
            "needs_background": "light"
          }
        }
      ]
    },
    {
      "cell_type": "markdown",
      "metadata": {
        "id": "SoOTdMe1KL4M"
      },
      "source": [
        "### 분석결과\n",
        "  * 당기순이익율은 크게 높지는 않으나 계속 유지중\n",
        "  * 자기자본수익율은 매우 높은 편, 2017년부터는 꾸준히 10%대 유지\n",
        "    * 2016년에는 50프로가 넘어갔는데 무슨일.,..?"
      ]
    },
    {
      "cell_type": "markdown",
      "metadata": {
        "id": "Bj5vkcRpKpqz"
      },
      "source": [
        "## (5) 지속가능성 분석\n",
        "  * 매출원가율 = 매출원가 / 매출액\n",
        "    * 일정비율 유지하고 있는가?\n",
        "    * 매출원가율 너무 낮으면 상품의 질 부족, 너무 높으면 이익이 낮아질 수 있다\n",
        "\n",
        "  * 고정지출비율 = 판매비와관리비 / 매출액\n",
        "    * (취업할 때 가장 중요한부분...?)\n",
        "    * 일정한 비율을 유지하는가?\n",
        "    * 너무 낮으면 근로의욕이 감소, 너무 높으면 이익이 낮아짐"
      ]
    },
    {
      "cell_type": "code",
      "metadata": {
        "colab": {
          "base_uri": "https://localhost:8080/"
        },
        "id": "LY8uizy2KH3U",
        "outputId": "f18853e9-b0bd-4b58-8232-2ec3888a6b5d"
      },
      "source": [
        "# 매출원가율\n",
        "\n",
        "theborn['매출원가율'] = theborn['매출원가'].div(theborn['매출액'])\n",
        "theborn['매출원가율']"
      ],
      "execution_count": null,
      "outputs": [
        {
          "output_type": "execute_result",
          "data": {
            "text/plain": [
              "0   0.74\n",
              "1   0.70\n",
              "2   0.71\n",
              "3   0.68\n",
              "4   0.71\n",
              "5   0.72\n",
              "6   0.52\n",
              "7   0.50\n",
              "Name: 매출원가율, dtype: float64"
            ]
          },
          "metadata": {
            "tags": []
          },
          "execution_count": 57
        }
      ]
    },
    {
      "cell_type": "code",
      "metadata": {
        "colab": {
          "base_uri": "https://localhost:8080/",
          "height": 297
        },
        "id": "JehwgkZxzD73",
        "outputId": "43163794-ce13-4227-e67c-617fb9921643"
      },
      "source": [
        "theborn[['년도', '매출원가율']]"
      ],
      "execution_count": null,
      "outputs": [
        {
          "output_type": "execute_result",
          "data": {
            "text/html": [
              "<div>\n",
              "<style scoped>\n",
              "    .dataframe tbody tr th:only-of-type {\n",
              "        vertical-align: middle;\n",
              "    }\n",
              "\n",
              "    .dataframe tbody tr th {\n",
              "        vertical-align: top;\n",
              "    }\n",
              "\n",
              "    .dataframe thead th {\n",
              "        text-align: right;\n",
              "    }\n",
              "</style>\n",
              "<table border=\"1\" class=\"dataframe\">\n",
              "  <thead>\n",
              "    <tr style=\"text-align: right;\">\n",
              "      <th></th>\n",
              "      <th>년도</th>\n",
              "      <th>매출원가율</th>\n",
              "    </tr>\n",
              "  </thead>\n",
              "  <tbody>\n",
              "    <tr>\n",
              "      <th>0</th>\n",
              "      <td>2012</td>\n",
              "      <td>0.74</td>\n",
              "    </tr>\n",
              "    <tr>\n",
              "      <th>1</th>\n",
              "      <td>2013</td>\n",
              "      <td>0.70</td>\n",
              "    </tr>\n",
              "    <tr>\n",
              "      <th>2</th>\n",
              "      <td>2014</td>\n",
              "      <td>0.71</td>\n",
              "    </tr>\n",
              "    <tr>\n",
              "      <th>3</th>\n",
              "      <td>2015</td>\n",
              "      <td>0.68</td>\n",
              "    </tr>\n",
              "    <tr>\n",
              "      <th>4</th>\n",
              "      <td>2016</td>\n",
              "      <td>0.71</td>\n",
              "    </tr>\n",
              "    <tr>\n",
              "      <th>5</th>\n",
              "      <td>2017</td>\n",
              "      <td>0.72</td>\n",
              "    </tr>\n",
              "    <tr>\n",
              "      <th>6</th>\n",
              "      <td>2018</td>\n",
              "      <td>0.52</td>\n",
              "    </tr>\n",
              "    <tr>\n",
              "      <th>7</th>\n",
              "      <td>2019</td>\n",
              "      <td>0.50</td>\n",
              "    </tr>\n",
              "  </tbody>\n",
              "</table>\n",
              "</div>"
            ],
            "text/plain": [
              "     년도  매출원가율\n",
              "0  2012   0.74\n",
              "1  2013   0.70\n",
              "2  2014   0.71\n",
              "3  2015   0.68\n",
              "4  2016   0.71\n",
              "5  2017   0.72\n",
              "6  2018   0.52\n",
              "7  2019   0.50"
            ]
          },
          "metadata": {
            "tags": []
          },
          "execution_count": 77
        }
      ]
    },
    {
      "cell_type": "code",
      "metadata": {
        "colab": {
          "base_uri": "https://localhost:8080/",
          "height": 297
        },
        "id": "1uI99ZvcLo5l",
        "outputId": "0961e9c2-ca53-4bda-ada2-da8c3db9111f"
      },
      "source": [
        "sns.barplot(data = theborn, x='년도', y='매출원가율')"
      ],
      "execution_count": null,
      "outputs": [
        {
          "output_type": "execute_result",
          "data": {
            "text/plain": [
              "<matplotlib.axes._subplots.AxesSubplot at 0x7f98b7161dd8>"
            ]
          },
          "metadata": {
            "tags": []
          },
          "execution_count": 58
        },
        {
          "output_type": "display_data",
          "data": {
            "image/png": "[encoded data removed]",
            "text/plain": [
              "<Figure size 432x288 with 1 Axes>"
            ]
          },
          "metadata": {
            "tags": [],
            "needs_background": "light"
          }
        }
      ]
    },
    {
      "cell_type": "code",
      "metadata": {
        "colab": {
          "base_uri": "https://localhost:8080/"
        },
        "id": "-ZHTwD6nLuQ6",
        "outputId": "babead79-0468-45cd-e612-7e64df947d49"
      },
      "source": [
        "# 고정지출비율\n",
        "\n",
        "theborn['고정지출비율'] = theborn['판매비와관리비'].div(theborn['매출액'])\n",
        "theborn['고정지출비율']"
      ],
      "execution_count": null,
      "outputs": [
        {
          "output_type": "execute_result",
          "data": {
            "text/plain": [
              "0   0.20\n",
              "1   0.23\n",
              "2   0.22\n",
              "3   0.23\n",
              "4   0.18\n",
              "5   0.20\n",
              "6   0.38\n",
              "7   0.40\n",
              "Name: 고정지출비율, dtype: float64"
            ]
          },
          "metadata": {
            "tags": []
          },
          "execution_count": 59
        }
      ]
    },
    {
      "cell_type": "code",
      "metadata": {
        "colab": {
          "base_uri": "https://localhost:8080/",
          "height": 297
        },
        "id": "mr1eyViczqq1",
        "outputId": "c8acd5f0-c6fe-456a-b0a5-2b372c811279"
      },
      "source": [
        "theborn[['년도', '고정지출비율']]"
      ],
      "execution_count": null,
      "outputs": [
        {
          "output_type": "execute_result",
          "data": {
            "text/html": [
              "<div>\n",
              "<style scoped>\n",
              "    .dataframe tbody tr th:only-of-type {\n",
              "        vertical-align: middle;\n",
              "    }\n",
              "\n",
              "    .dataframe tbody tr th {\n",
              "        vertical-align: top;\n",
              "    }\n",
              "\n",
              "    .dataframe thead th {\n",
              "        text-align: right;\n",
              "    }\n",
              "</style>\n",
              "<table border=\"1\" class=\"dataframe\">\n",
              "  <thead>\n",
              "    <tr style=\"text-align: right;\">\n",
              "      <th></th>\n",
              "      <th>년도</th>\n",
              "      <th>고정지출비율</th>\n",
              "    </tr>\n",
              "  </thead>\n",
              "  <tbody>\n",
              "    <tr>\n",
              "      <th>0</th>\n",
              "      <td>2012</td>\n",
              "      <td>0.20</td>\n",
              "    </tr>\n",
              "    <tr>\n",
              "      <th>1</th>\n",
              "      <td>2013</td>\n",
              "      <td>0.23</td>\n",
              "    </tr>\n",
              "    <tr>\n",
              "      <th>2</th>\n",
              "      <td>2014</td>\n",
              "      <td>0.22</td>\n",
              "    </tr>\n",
              "    <tr>\n",
              "      <th>3</th>\n",
              "      <td>2015</td>\n",
              "      <td>0.23</td>\n",
              "    </tr>\n",
              "    <tr>\n",
              "      <th>4</th>\n",
              "      <td>2016</td>\n",
              "      <td>0.18</td>\n",
              "    </tr>\n",
              "    <tr>\n",
              "      <th>5</th>\n",
              "      <td>2017</td>\n",
              "      <td>0.20</td>\n",
              "    </tr>\n",
              "    <tr>\n",
              "      <th>6</th>\n",
              "      <td>2018</td>\n",
              "      <td>0.38</td>\n",
              "    </tr>\n",
              "    <tr>\n",
              "      <th>7</th>\n",
              "      <td>2019</td>\n",
              "      <td>0.40</td>\n",
              "    </tr>\n",
              "  </tbody>\n",
              "</table>\n",
              "</div>"
            ],
            "text/plain": [
              "     년도  고정지출비율\n",
              "0  2012    0.20\n",
              "1  2013    0.23\n",
              "2  2014    0.22\n",
              "3  2015    0.23\n",
              "4  2016    0.18\n",
              "5  2017    0.20\n",
              "6  2018    0.38\n",
              "7  2019    0.40"
            ]
          },
          "metadata": {
            "tags": []
          },
          "execution_count": 78
        }
      ]
    },
    {
      "cell_type": "code",
      "metadata": {
        "colab": {
          "base_uri": "https://localhost:8080/",
          "height": 297
        },
        "id": "C3kypFqoMJ8G",
        "outputId": "c023f4f0-ca7b-4dc5-c8ba-7914ed81a9cc"
      },
      "source": [
        "sns.barplot(data=theborn, x='년도', y='고정지출비율')"
      ],
      "execution_count": null,
      "outputs": [
        {
          "output_type": "execute_result",
          "data": {
            "text/plain": [
              "<matplotlib.axes._subplots.AxesSubplot at 0x7f98b704add8>"
            ]
          },
          "metadata": {
            "tags": []
          },
          "execution_count": 60
        },
        {
          "output_type": "display_data",
          "data": {
            "image/png": "[encoded data removed]",
            "text/plain": [
              "<Figure size 432x288 with 1 Axes>"
            ]
          },
          "metadata": {
            "tags": [],
            "needs_background": "light"
          }
        }
      ]
    },
    {
      "cell_type": "markdown",
      "metadata": {
        "id": "dH5tHHxkMV4P"
      },
      "source": [
        "### 분석결과"
      ]
    },
    {
      "cell_type": "markdown",
      "metadata": {
        "id": "fu4rfKrUMfWZ"
      },
      "source": [
        "## (6) 리스크 진단\n",
        "  * 재무적 리스크\n",
        "  * 비재무적 리스크"
      ]
    },
    {
      "cell_type": "markdown",
      "metadata": {
        "id": "1jMCaQWPMu8G"
      },
      "source": [
        "# 5. 기업가치평가\n",
        "  * 내재가치 + 프리미엄\n",
        "    * '프리미엄'을 얼마 혹은 내재가치의 몇 퍼센트 또는 몇 배로 책정할 것인가?\n",
        "  \n",
        "\n",
        "  * 안정성 :\n",
        "  * 성장성 : \n",
        "  * 수익성 : \n",
        "  * 지속가능성\n",
        "  * 디스카운트 요인\n",
        "  * 리스크 요인 중 가장 큰 것은..."
      ]
    },
    {
      "cell_type": "markdown",
      "metadata": {
        "id": "-42mMPLaNPiM"
      },
      "source": [
        " * 분석한 기업의 미래를 긍정적 부정적 전망 여부\n",
        " * 취업 추천 여부\n",
        " * 투자 추천, 혹은 관망, 비추"
      ]
    },
    {
      "cell_type": "code",
      "metadata": {
        "id": "igbnnx-dMSNv"
      },
      "source": [
        ""
      ],
      "execution_count": null,
      "outputs": []
    }
  ]
}